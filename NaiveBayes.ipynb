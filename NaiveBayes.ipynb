{
 "cells": [
  {
   "attachments": {},
   "cell_type": "markdown",
   "metadata": {},
   "source": [
    "## Multinomial Naive Bayes"
   ]
  },
  {
   "cell_type": "code",
   "execution_count": 1,
   "metadata": {},
   "outputs": [
    {
     "data": {
      "text/html": [
       "<div>\n",
       "<style scoped>\n",
       "    .dataframe tbody tr th:only-of-type {\n",
       "        vertical-align: middle;\n",
       "    }\n",
       "\n",
       "    .dataframe tbody tr th {\n",
       "        vertical-align: top;\n",
       "    }\n",
       "\n",
       "    .dataframe thead th {\n",
       "        text-align: right;\n",
       "    }\n",
       "</style>\n",
       "<table border=\"1\" class=\"dataframe\">\n",
       "  <thead>\n",
       "    <tr style=\"text-align: right;\">\n",
       "      <th></th>\n",
       "      <th>classification</th>\n",
       "      <th>label</th>\n",
       "      <th>tweets_pt</th>\n",
       "      <th>tweets_en</th>\n",
       "      <th>pt_lemma</th>\n",
       "      <th>en_lemma</th>\n",
       "      <th>pt_tokens</th>\n",
       "      <th>en_tokens</th>\n",
       "    </tr>\n",
       "  </thead>\n",
       "  <tbody>\n",
       "    <tr>\n",
       "      <th>0</th>\n",
       "      <td>Normal</td>\n",
       "      <td>2</td>\n",
       "      <td>mayasolovely como mulher você não deve reclama...</td>\n",
       "      <td>mayasolovely   woman shouldnt complain cleanin...</td>\n",
       "      <td>mayasolovelyr como mulher você não dever recla...</td>\n",
       "      <td>mayasolovely    woman should not complain clea...</td>\n",
       "      <td>['mayasolovelyr', 'como', 'mulher', 'você', 'n...</td>\n",
       "      <td>['mayasolovely', 'woman', 'should', 'not', 'co...</td>\n",
       "    </tr>\n",
       "    <tr>\n",
       "      <th>1</th>\n",
       "      <td>Offensive</td>\n",
       "      <td>1</td>\n",
       "      <td>menino dats frio  tyga dwn ruim para cuffin da...</td>\n",
       "      <td>boy dats coldtyga dwn bad cuffin dat hoe   place</td>\n",
       "      <td>menino dats frio   tyga dwn ruim para cuffin d...</td>\n",
       "      <td>boy dat coldtyga dwn bad cuffin dat hoe    place</td>\n",
       "      <td>['menino', 'dats', 'frio', 'tyga', 'dwn', 'rui...</td>\n",
       "      <td>['boy', 'dat', 'coldtyga', 'dwn', 'bad', 'cuff...</td>\n",
       "    </tr>\n",
       "    <tr>\n",
       "      <th>2</th>\n",
       "      <td>Offensive</td>\n",
       "      <td>1</td>\n",
       "      <td>urkindofbrand cara   você  fodeu uma cadela  e...</td>\n",
       "      <td>urkindofbrand dawg   ever fuck  bitch start  c...</td>\n",
       "      <td>urkindofbrand cara    você   foder um cadela  ...</td>\n",
       "      <td>urkindofbrand dawg    ever fuck   bitch start ...</td>\n",
       "      <td>['urkindofbrand', 'cara', 'você', 'foder', 'um...</td>\n",
       "      <td>['urkindofbrand', 'dawg', 'ever', 'fuck', 'bit...</td>\n",
       "    </tr>\n",
       "    <tr>\n",
       "      <th>3</th>\n",
       "      <td>Offensive</td>\n",
       "      <td>1</td>\n",
       "      <td>cganderson vivabased ela parece uma travesti</td>\n",
       "      <td>cganderson vivabased look like  tranny</td>\n",
       "      <td>Cganderson Vivabased ela parecer um travesti</td>\n",
       "      <td>cganderson vivabase look like   tranny</td>\n",
       "      <td>['Cganderson', 'Vivabased', 'ela', 'parecer', ...</td>\n",
       "      <td>['cganderson', 'vivabase', 'look', 'like', 'tr...</td>\n",
       "    </tr>\n",
       "    <tr>\n",
       "      <th>4</th>\n",
       "      <td>Offensive</td>\n",
       "      <td>1</td>\n",
       "      <td>shenikaroberts  merda que você ouve sobre mim ...</td>\n",
       "      <td>shenikaroberts shit hear  might  true   might ...</td>\n",
       "      <td>shenikarobert   merdar que você ouve sobre eu ...</td>\n",
       "      <td>shenikarobert shit hear   might   true    migh...</td>\n",
       "      <td>['shenikarobert', 'merdar', 'que', 'você', 'ou...</td>\n",
       "      <td>['shenikarobert', 'shit', 'hear', 'might', 'tr...</td>\n",
       "    </tr>\n",
       "    <tr>\n",
       "      <th>...</th>\n",
       "      <td>...</td>\n",
       "      <td>...</td>\n",
       "      <td>...</td>\n",
       "      <td>...</td>\n",
       "      <td>...</td>\n",
       "      <td>...</td>\n",
       "      <td>...</td>\n",
       "      <td>...</td>\n",
       "    </tr>\n",
       "    <tr>\n",
       "      <th>24771</th>\n",
       "      <td>Offensive</td>\n",
       "      <td>1</td>\n",
       "      <td>você   filho  puta  mentira   coreyemanuel cer...</td>\n",
       "      <td>yous  muthafin lie   coreyemanuel right   tras...</td>\n",
       "      <td>você    filho   puta   mentira    coreyemanuel...</td>\n",
       "      <td>yous   muthafin lie    coreyemanuel right    t...</td>\n",
       "      <td>['você', 'filho', 'puta', 'mentira', 'coreyema...</td>\n",
       "      <td>['yous', 'muthafin', 'lie', 'coreyemanuel', 'r...</td>\n",
       "    </tr>\n",
       "    <tr>\n",
       "      <th>24772</th>\n",
       "      <td>Normal</td>\n",
       "      <td>2</td>\n",
       "      <td>você foi  quebrou  coração errado baby   deixo...</td>\n",
       "      <td>youve gone broke wrong heart baby drove  redne...</td>\n",
       "      <td>você ser   quebrar   coração errar Baby    dei...</td>\n",
       "      <td>you ve go break wrong heart baby drive   redne...</td>\n",
       "      <td>['você', 'ser', 'quebrar', 'coração', 'errar',...</td>\n",
       "      <td>['you', 've', 'go', 'break', 'wrong', 'heart',...</td>\n",
       "    </tr>\n",
       "    <tr>\n",
       "      <th>24773</th>\n",
       "      <td>Offensive</td>\n",
       "      <td>1</td>\n",
       "      <td>jovem fanfarrão quer comer   esse mano como   ...</td>\n",
       "      <td>young buck wanna eat dat nigguh like  aint fuc...</td>\n",
       "      <td>jovem fanfarr querer comer    esse mano como  ...</td>\n",
       "      <td>young buck wanna eat dat nigguh like   be not ...</td>\n",
       "      <td>['jovem', 'fanfarr', 'querer', 'comer', 'esse'...</td>\n",
       "      <td>['young', 'buck', 'wanna', 'eat', 'dat', 'nigg...</td>\n",
       "    </tr>\n",
       "    <tr>\n",
       "      <th>24774</th>\n",
       "      <td>Offensive</td>\n",
       "      <td>1</td>\n",
       "      <td>você tem cadelas selvagens contando mentiras</td>\n",
       "      <td>youu got wild bitches tellin lies</td>\n",
       "      <td>você ter cadela selvagem contar mentira</td>\n",
       "      <td>youu get wild bitch tellin lie</td>\n",
       "      <td>['você', 'ter', 'cadela', 'selvagem', 'contar'...</td>\n",
       "      <td>['youu', 'get', 'wild', 'bitch', 'tellin', 'lie']</td>\n",
       "    </tr>\n",
       "    <tr>\n",
       "      <th>24775</th>\n",
       "      <td>Normal</td>\n",
       "      <td>2</td>\n",
       "      <td>babado  ntac eileen dahlia  linda combinação  ...</td>\n",
       "      <td>ruffled  ntac eileen dahlia  beautiful color c...</td>\n",
       "      <td>babar   ntac eileen dahlia   lindo combinação ...</td>\n",
       "      <td>ruffle   ntac eileen dahlia   beautiful color ...</td>\n",
       "      <td>['babar', 'ntac', 'eileen', 'dahlia', 'lindo',...</td>\n",
       "      <td>['ruffle', 'ntac', 'eileen', 'dahlia', 'beauti...</td>\n",
       "    </tr>\n",
       "  </tbody>\n",
       "</table>\n",
       "<p>24776 rows × 8 columns</p>\n",
       "</div>"
      ],
      "text/plain": [
       "      classification  label  \\\n",
       "0             Normal      2   \n",
       "1          Offensive      1   \n",
       "2          Offensive      1   \n",
       "3          Offensive      1   \n",
       "4          Offensive      1   \n",
       "...              ...    ...   \n",
       "24771      Offensive      1   \n",
       "24772         Normal      2   \n",
       "24773      Offensive      1   \n",
       "24774      Offensive      1   \n",
       "24775         Normal      2   \n",
       "\n",
       "                                               tweets_pt  \\\n",
       "0      mayasolovely como mulher você não deve reclama...   \n",
       "1      menino dats frio  tyga dwn ruim para cuffin da...   \n",
       "2      urkindofbrand cara   você  fodeu uma cadela  e...   \n",
       "3           cganderson vivabased ela parece uma travesti   \n",
       "4      shenikaroberts  merda que você ouve sobre mim ...   \n",
       "...                                                  ...   \n",
       "24771  você   filho  puta  mentira   coreyemanuel cer...   \n",
       "24772  você foi  quebrou  coração errado baby   deixo...   \n",
       "24773  jovem fanfarrão quer comer   esse mano como   ...   \n",
       "24774       você tem cadelas selvagens contando mentiras   \n",
       "24775  babado  ntac eileen dahlia  linda combinação  ...   \n",
       "\n",
       "                                               tweets_en  \\\n",
       "0      mayasolovely   woman shouldnt complain cleanin...   \n",
       "1       boy dats coldtyga dwn bad cuffin dat hoe   place   \n",
       "2      urkindofbrand dawg   ever fuck  bitch start  c...   \n",
       "3                 cganderson vivabased look like  tranny   \n",
       "4      shenikaroberts shit hear  might  true   might ...   \n",
       "...                                                  ...   \n",
       "24771  yous  muthafin lie   coreyemanuel right   tras...   \n",
       "24772  youve gone broke wrong heart baby drove  redne...   \n",
       "24773  young buck wanna eat dat nigguh like  aint fuc...   \n",
       "24774                  youu got wild bitches tellin lies   \n",
       "24775  ruffled  ntac eileen dahlia  beautiful color c...   \n",
       "\n",
       "                                                pt_lemma  \\\n",
       "0      mayasolovelyr como mulher você não dever recla...   \n",
       "1      menino dats frio   tyga dwn ruim para cuffin d...   \n",
       "2      urkindofbrand cara    você   foder um cadela  ...   \n",
       "3           Cganderson Vivabased ela parecer um travesti   \n",
       "4      shenikarobert   merdar que você ouve sobre eu ...   \n",
       "...                                                  ...   \n",
       "24771  você    filho   puta   mentira    coreyemanuel...   \n",
       "24772  você ser   quebrar   coração errar Baby    dei...   \n",
       "24773  jovem fanfarr querer comer    esse mano como  ...   \n",
       "24774            você ter cadela selvagem contar mentira   \n",
       "24775  babar   ntac eileen dahlia   lindo combinação ...   \n",
       "\n",
       "                                                en_lemma  \\\n",
       "0      mayasolovely    woman should not complain clea...   \n",
       "1       boy dat coldtyga dwn bad cuffin dat hoe    place   \n",
       "2      urkindofbrand dawg    ever fuck   bitch start ...   \n",
       "3                 cganderson vivabase look like   tranny   \n",
       "4      shenikarobert shit hear   might   true    migh...   \n",
       "...                                                  ...   \n",
       "24771  yous   muthafin lie    coreyemanuel right    t...   \n",
       "24772  you ve go break wrong heart baby drive   redne...   \n",
       "24773  young buck wanna eat dat nigguh like   be not ...   \n",
       "24774                     youu get wild bitch tellin lie   \n",
       "24775  ruffle   ntac eileen dahlia   beautiful color ...   \n",
       "\n",
       "                                               pt_tokens  \\\n",
       "0      ['mayasolovelyr', 'como', 'mulher', 'você', 'n...   \n",
       "1      ['menino', 'dats', 'frio', 'tyga', 'dwn', 'rui...   \n",
       "2      ['urkindofbrand', 'cara', 'você', 'foder', 'um...   \n",
       "3      ['Cganderson', 'Vivabased', 'ela', 'parecer', ...   \n",
       "4      ['shenikarobert', 'merdar', 'que', 'você', 'ou...   \n",
       "...                                                  ...   \n",
       "24771  ['você', 'filho', 'puta', 'mentira', 'coreyema...   \n",
       "24772  ['você', 'ser', 'quebrar', 'coração', 'errar',...   \n",
       "24773  ['jovem', 'fanfarr', 'querer', 'comer', 'esse'...   \n",
       "24774  ['você', 'ter', 'cadela', 'selvagem', 'contar'...   \n",
       "24775  ['babar', 'ntac', 'eileen', 'dahlia', 'lindo',...   \n",
       "\n",
       "                                               en_tokens  \n",
       "0      ['mayasolovely', 'woman', 'should', 'not', 'co...  \n",
       "1      ['boy', 'dat', 'coldtyga', 'dwn', 'bad', 'cuff...  \n",
       "2      ['urkindofbrand', 'dawg', 'ever', 'fuck', 'bit...  \n",
       "3      ['cganderson', 'vivabase', 'look', 'like', 'tr...  \n",
       "4      ['shenikarobert', 'shit', 'hear', 'might', 'tr...  \n",
       "...                                                  ...  \n",
       "24771  ['yous', 'muthafin', 'lie', 'coreyemanuel', 'r...  \n",
       "24772  ['you', 've', 'go', 'break', 'wrong', 'heart',...  \n",
       "24773  ['young', 'buck', 'wanna', 'eat', 'dat', 'nigg...  \n",
       "24774  ['youu', 'get', 'wild', 'bitch', 'tellin', 'lie']  \n",
       "24775  ['ruffle', 'ntac', 'eileen', 'dahlia', 'beauti...  \n",
       "\n",
       "[24776 rows x 8 columns]"
      ]
     },
     "execution_count": 1,
     "metadata": {},
     "output_type": "execute_result"
    }
   ],
   "source": [
    "import pandas as pd\n",
    "\n",
    "df = pd.read_csv('Dados/twitter.csv')\n",
    "df"
   ]
  },
  {
   "cell_type": "code",
   "execution_count": 2,
   "metadata": {},
   "outputs": [
    {
     "data": {
      "text/plain": [
       "classification\n",
       "Offensive      15876\n",
       "Hate Speech     4992\n",
       "Normal          3908\n",
       "dtype: int64"
      ]
     },
     "execution_count": 2,
     "metadata": {},
     "output_type": "execute_result"
    }
   ],
   "source": [
    "df.value_counts('classification')"
   ]
  },
  {
   "cell_type": "code",
   "execution_count": 3,
   "metadata": {},
   "outputs": [
    {
     "data": {
      "text/plain": [
       "0        mayasolovely como mulher você não deve reclama...\n",
       "1        menino dats frio  tyga dwn ruim para cuffin da...\n",
       "2        urkindofbrand cara   você  fodeu uma cadela  e...\n",
       "3             cganderson vivabased ela parece uma travesti\n",
       "4        shenikaroberts  merda que você ouve sobre mim ...\n",
       "                               ...                        \n",
       "24771    você   filho  puta  mentira   coreyemanuel cer...\n",
       "24772    você foi  quebrou  coração errado baby   deixo...\n",
       "24773    jovem fanfarrão quer comer   esse mano como   ...\n",
       "24774         você tem cadelas selvagens contando mentiras\n",
       "24775    babado  ntac eileen dahlia  linda combinação  ...\n",
       "Name: tweets_pt, Length: 24776, dtype: object"
      ]
     },
     "execution_count": 3,
     "metadata": {},
     "output_type": "execute_result"
    }
   ],
   "source": [
    "X = df['tweets_pt']\n",
    "X"
   ]
  },
  {
   "cell_type": "code",
   "execution_count": 4,
   "metadata": {},
   "outputs": [
    {
     "data": {
      "text/plain": [
       "0           Normal\n",
       "1        Offensive\n",
       "2        Offensive\n",
       "3        Offensive\n",
       "4        Offensive\n",
       "           ...    \n",
       "24771    Offensive\n",
       "24772       Normal\n",
       "24773    Offensive\n",
       "24774    Offensive\n",
       "24775       Normal\n",
       "Name: classification, Length: 24776, dtype: object"
      ]
     },
     "execution_count": 4,
     "metadata": {},
     "output_type": "execute_result"
    }
   ],
   "source": [
    "y = df['classification']\n",
    "y"
   ]
  },
  {
   "cell_type": "code",
   "execution_count": 6,
   "metadata": {},
   "outputs": [],
   "source": [
    "from sklearn.model_selection import train_test_split\n",
    "\n",
    "X_train, X_test, y_train, y_test = train_test_split(X, y, test_size=0.25, random_state=42)"
   ]
  },
  {
   "attachments": {},
   "cell_type": "markdown",
   "metadata": {},
   "source": [
    "##### BoW"
   ]
  },
  {
   "cell_type": "code",
   "execution_count": 16,
   "metadata": {},
   "outputs": [],
   "source": [
    "# from sklearn.feature_extraction.text import CountVectorizer\n",
    "# vectorizer = CountVectorizer(ngram_range=(1,5))\n",
    "# X = vectorizer.fit_transform(X)\n",
    "# vectorizer.get_feature_names_out()\n",
    "# X = X.toarray()\n",
    "# X"
   ]
  },
  {
   "cell_type": "code",
   "execution_count": 7,
   "metadata": {},
   "outputs": [],
   "source": [
    "from sklearn.feature_extraction.text import TfidfVectorizer\n",
    "\n",
    "vectorizer = TfidfVectorizer()\n",
    "X_train = vectorizer.fit_transform(X_train)\n",
    "X_test = vectorizer.transform(X_test)\n",
    "\n",
    "\n",
    "\n",
    "# from sklearn.feature_extraction.text import CountVectorizer\n",
    "# vectorizer = CountVectorizer()\n",
    "# X_train = vectorizer.fit_transform(X_train)\n",
    "# vectorizer.get_feature_names_out()\n",
    "# X_train = X_train.toarray()\n",
    "# X_train\n",
    "\n",
    "# X_test = vectorizer.fit_transform(X_test)\n",
    "# vectorizer.get_feature_names_out()\n",
    "# X_test = X_test.toarray()\n",
    "# X_test"
   ]
  },
  {
   "cell_type": "code",
   "execution_count": 8,
   "metadata": {},
   "outputs": [],
   "source": [
    "from sklearn.naive_bayes import MultinomialNB\n",
    "\n",
    "clf = MultinomialNB()\n",
    "model = clf.fit(X_train, y_train)"
   ]
  },
  {
   "cell_type": "code",
   "execution_count": 9,
   "metadata": {},
   "outputs": [
    {
     "data": {
      "text/plain": [
       "0.7344204068453342"
      ]
     },
     "execution_count": 9,
     "metadata": {},
     "output_type": "execute_result"
    }
   ],
   "source": [
    "from sklearn.metrics import accuracy_score\n",
    "\n",
    "accuracy_score(y_test, model.predict(X_test))"
   ]
  },
  {
   "cell_type": "code",
   "execution_count": 10,
   "metadata": {},
   "outputs": [
    {
     "data": {
      "text/plain": [
       "array(['Offensive'], dtype='<U11')"
      ]
     },
     "execution_count": 10,
     "metadata": {},
     "output_type": "execute_result"
    }
   ],
   "source": [
    "my_input = ''\n",
    "my_input = vectorizer.transform([my_input])\n",
    "model.predict(my_input)"
   ]
  },
  {
   "cell_type": "code",
   "execution_count": 11,
   "metadata": {},
   "outputs": [
    {
     "name": "stdout",
     "output_type": "stream",
     "text": [
      "              precision    recall  f1-score   support\n",
      "\n",
      " Hate Speech       0.55      0.24      0.34      1284\n",
      "      Normal       0.85      0.57      0.68       991\n",
      "   Offensive       0.74      0.94      0.83      3919\n",
      "\n",
      "    accuracy                           0.73      6194\n",
      "   macro avg       0.71      0.58      0.62      6194\n",
      "weighted avg       0.72      0.73      0.70      6194\n",
      "\n"
     ]
    }
   ],
   "source": [
    "from sklearn.metrics import classification_report\n",
    "\n",
    "\n",
    "y_prob = clf.predict_proba(X_test)\n",
    "# print(y_prob)\n",
    "y_pred = clf.predict(X_test)\n",
    "# print(y_pred)\n",
    "\n",
    "print(classification_report(y_test, y_pred))"
   ]
  },
  {
   "cell_type": "code",
   "execution_count": 12,
   "metadata": {},
   "outputs": [],
   "source": [
    "y_train_pred = model.predict(X_train)\n",
    "y_test_pred = model.predict(X_test)\n",
    "\n",
    "train_accuracy = accuracy_score(y_train, y_train_pred)\n",
    "test_accuracy = accuracy_score(y_test, y_test_pred)"
   ]
  },
  {
   "cell_type": "code",
   "execution_count": 13,
   "metadata": {},
   "outputs": [
    {
     "name": "stdout",
     "output_type": "stream",
     "text": [
      "Acurácia no conjunto de treinamento: 0.8404369820256162\n",
      "Acurácia no conjunto de teste: 0.7344204068453342\n"
     ]
    }
   ],
   "source": [
    "print(\"Acurácia no conjunto de treinamento:\", train_accuracy)\n",
    "print(\"Acurácia no conjunto de teste:\", test_accuracy)"
   ]
  },
  {
   "cell_type": "code",
   "execution_count": 14,
   "metadata": {},
   "outputs": [
    {
     "name": "stdout",
     "output_type": "stream",
     "text": [
      "Overfitting: 0.11\n"
     ]
    }
   ],
   "source": [
    "overfitting_0 = train_accuracy - test_accuracy\n",
    "overfitting = round(overfitting_0, 2)\n",
    "print(\"Overfitting:\", overfitting)"
   ]
  },
  {
   "cell_type": "code",
   "execution_count": 15,
   "metadata": {},
   "outputs": [
    {
     "data": {
      "image/png": "[encoded data removed]",
      "text/plain": [
       "<Figure size 640x480 with 1 Axes>"
      ]
     },
     "metadata": {},
     "output_type": "display_data"
    }
   ],
   "source": [
    "import matplotlib.pyplot as plt\n",
    "\n",
    "# Configuração do gráfico\n",
    "labels = ['Treinamento', 'Teste']\n",
    "values = [train_accuracy, test_accuracy]\n",
    "colors = ['red', 'blue']\n",
    "\n",
    "# Plotagem do gráfico de barras\n",
    "plt.bar(labels, values, color=colors)\n",
    "\n",
    "# Adição do texto com os valores\n",
    "for i, value in enumerate(values):\n",
    "    plt.text(i, value, str(round(value, 2)), ha='center', va='bottom')\n",
    "\n",
    "# Título e rótulos dos eixos\n",
    "plt.title('Acurácia - Train vs Test')\n",
    "plt.xlabel('Conjunto de Dados')\n",
    "plt.ylabel('Acurácia')\n",
    "\n",
    "# Exibição do gráfico\n",
    "plt.show()"
   ]
  },
  {
   "attachments": {},
   "cell_type": "markdown",
   "metadata": {},
   "source": [
    "## Binary tests Bernoulli Naive Bayes"
   ]
  },
  {
   "cell_type": "code",
   "execution_count": 5,
   "metadata": {},
   "outputs": [
    {
     "data": {
      "text/html": [
       "<div>\n",
       "<style scoped>\n",
       "    .dataframe tbody tr th:only-of-type {\n",
       "        vertical-align: middle;\n",
       "    }\n",
       "\n",
       "    .dataframe tbody tr th {\n",
       "        vertical-align: top;\n",
       "    }\n",
       "\n",
       "    .dataframe thead th {\n",
       "        text-align: right;\n",
       "    }\n",
       "</style>\n",
       "<table border=\"1\" class=\"dataframe\">\n",
       "  <thead>\n",
       "    <tr style=\"text-align: right;\">\n",
       "      <th></th>\n",
       "      <th>classification</th>\n",
       "      <th>label</th>\n",
       "      <th>tweets_pt</th>\n",
       "      <th>tweets_en</th>\n",
       "      <th>pt_lemma</th>\n",
       "      <th>en_lemma</th>\n",
       "      <th>pt_tokens</th>\n",
       "      <th>en_tokens</th>\n",
       "    </tr>\n",
       "  </thead>\n",
       "  <tbody>\n",
       "    <tr>\n",
       "      <th>0</th>\n",
       "      <td>Normal</td>\n",
       "      <td>2</td>\n",
       "      <td>mayasolovely como mulher você não deve reclama...</td>\n",
       "      <td>mayasolovely   woman shouldnt complain cleanin...</td>\n",
       "      <td>mayasolovelyr como mulher você não dever recla...</td>\n",
       "      <td>mayasolovely    woman should not complain clea...</td>\n",
       "      <td>['mayasolovelyr', 'como', 'mulher', 'você', 'n...</td>\n",
       "      <td>['mayasolovely', 'woman', 'should', 'not', 'co...</td>\n",
       "    </tr>\n",
       "    <tr>\n",
       "      <th>1</th>\n",
       "      <td>Offensive</td>\n",
       "      <td>1</td>\n",
       "      <td>menino dats frio  tyga dwn ruim para cuffin da...</td>\n",
       "      <td>boy dats coldtyga dwn bad cuffin dat hoe   place</td>\n",
       "      <td>menino dats frio   tyga dwn ruim para cuffin d...</td>\n",
       "      <td>boy dat coldtyga dwn bad cuffin dat hoe    place</td>\n",
       "      <td>['menino', 'dats', 'frio', 'tyga', 'dwn', 'rui...</td>\n",
       "      <td>['boy', 'dat', 'coldtyga', 'dwn', 'bad', 'cuff...</td>\n",
       "    </tr>\n",
       "    <tr>\n",
       "      <th>2</th>\n",
       "      <td>Offensive</td>\n",
       "      <td>1</td>\n",
       "      <td>urkindofbrand cara   você  fodeu uma cadela  e...</td>\n",
       "      <td>urkindofbrand dawg   ever fuck  bitch start  c...</td>\n",
       "      <td>urkindofbrand cara    você   foder um cadela  ...</td>\n",
       "      <td>urkindofbrand dawg    ever fuck   bitch start ...</td>\n",
       "      <td>['urkindofbrand', 'cara', 'você', 'foder', 'um...</td>\n",
       "      <td>['urkindofbrand', 'dawg', 'ever', 'fuck', 'bit...</td>\n",
       "    </tr>\n",
       "    <tr>\n",
       "      <th>3</th>\n",
       "      <td>Offensive</td>\n",
       "      <td>1</td>\n",
       "      <td>cganderson vivabased ela parece uma travesti</td>\n",
       "      <td>cganderson vivabased look like  tranny</td>\n",
       "      <td>Cganderson Vivabased ela parecer um travesti</td>\n",
       "      <td>cganderson vivabase look like   tranny</td>\n",
       "      <td>['Cganderson', 'Vivabased', 'ela', 'parecer', ...</td>\n",
       "      <td>['cganderson', 'vivabase', 'look', 'like', 'tr...</td>\n",
       "    </tr>\n",
       "    <tr>\n",
       "      <th>4</th>\n",
       "      <td>Offensive</td>\n",
       "      <td>1</td>\n",
       "      <td>shenikaroberts  merda que você ouve sobre mim ...</td>\n",
       "      <td>shenikaroberts shit hear  might  true   might ...</td>\n",
       "      <td>shenikarobert   merdar que você ouve sobre eu ...</td>\n",
       "      <td>shenikarobert shit hear   might   true    migh...</td>\n",
       "      <td>['shenikarobert', 'merdar', 'que', 'você', 'ou...</td>\n",
       "      <td>['shenikarobert', 'shit', 'hear', 'might', 'tr...</td>\n",
       "    </tr>\n",
       "  </tbody>\n",
       "</table>\n",
       "</div>"
      ],
      "text/plain": [
       "  classification  label                                          tweets_pt  \\\n",
       "0         Normal      2  mayasolovely como mulher você não deve reclama...   \n",
       "1      Offensive      1  menino dats frio  tyga dwn ruim para cuffin da...   \n",
       "2      Offensive      1  urkindofbrand cara   você  fodeu uma cadela  e...   \n",
       "3      Offensive      1       cganderson vivabased ela parece uma travesti   \n",
       "4      Offensive      1  shenikaroberts  merda que você ouve sobre mim ...   \n",
       "\n",
       "                                           tweets_en  \\\n",
       "0  mayasolovely   woman shouldnt complain cleanin...   \n",
       "1   boy dats coldtyga dwn bad cuffin dat hoe   place   \n",
       "2  urkindofbrand dawg   ever fuck  bitch start  c...   \n",
       "3             cganderson vivabased look like  tranny   \n",
       "4  shenikaroberts shit hear  might  true   might ...   \n",
       "\n",
       "                                            pt_lemma  \\\n",
       "0  mayasolovelyr como mulher você não dever recla...   \n",
       "1  menino dats frio   tyga dwn ruim para cuffin d...   \n",
       "2  urkindofbrand cara    você   foder um cadela  ...   \n",
       "3       Cganderson Vivabased ela parecer um travesti   \n",
       "4  shenikarobert   merdar que você ouve sobre eu ...   \n",
       "\n",
       "                                            en_lemma  \\\n",
       "0  mayasolovely    woman should not complain clea...   \n",
       "1   boy dat coldtyga dwn bad cuffin dat hoe    place   \n",
       "2  urkindofbrand dawg    ever fuck   bitch start ...   \n",
       "3             cganderson vivabase look like   tranny   \n",
       "4  shenikarobert shit hear   might   true    migh...   \n",
       "\n",
       "                                           pt_tokens  \\\n",
       "0  ['mayasolovelyr', 'como', 'mulher', 'você', 'n...   \n",
       "1  ['menino', 'dats', 'frio', 'tyga', 'dwn', 'rui...   \n",
       "2  ['urkindofbrand', 'cara', 'você', 'foder', 'um...   \n",
       "3  ['Cganderson', 'Vivabased', 'ela', 'parecer', ...   \n",
       "4  ['shenikarobert', 'merdar', 'que', 'você', 'ou...   \n",
       "\n",
       "                                           en_tokens  \n",
       "0  ['mayasolovely', 'woman', 'should', 'not', 'co...  \n",
       "1  ['boy', 'dat', 'coldtyga', 'dwn', 'bad', 'cuff...  \n",
       "2  ['urkindofbrand', 'dawg', 'ever', 'fuck', 'bit...  \n",
       "3  ['cganderson', 'vivabase', 'look', 'like', 'tr...  \n",
       "4  ['shenikarobert', 'shit', 'hear', 'might', 'tr...  "
      ]
     },
     "execution_count": 5,
     "metadata": {},
     "output_type": "execute_result"
    }
   ],
   "source": [
    "df.head(5)"
   ]
  },
  {
   "cell_type": "code",
   "execution_count": 6,
   "metadata": {},
   "outputs": [],
   "source": [
    "df_b = df.drop(df.loc[df['label'] == 1].index)"
   ]
  },
  {
   "cell_type": "code",
   "execution_count": 7,
   "metadata": {},
   "outputs": [
    {
     "data": {
      "text/html": [
       "<div>\n",
       "<style scoped>\n",
       "    .dataframe tbody tr th:only-of-type {\n",
       "        vertical-align: middle;\n",
       "    }\n",
       "\n",
       "    .dataframe tbody tr th {\n",
       "        vertical-align: top;\n",
       "    }\n",
       "\n",
       "    .dataframe thead th {\n",
       "        text-align: right;\n",
       "    }\n",
       "</style>\n",
       "<table border=\"1\" class=\"dataframe\">\n",
       "  <thead>\n",
       "    <tr style=\"text-align: right;\">\n",
       "      <th></th>\n",
       "      <th>classification</th>\n",
       "      <th>label</th>\n",
       "      <th>tweets_pt</th>\n",
       "      <th>tweets_en</th>\n",
       "      <th>pt_lemma</th>\n",
       "      <th>en_lemma</th>\n",
       "      <th>pt_tokens</th>\n",
       "      <th>en_tokens</th>\n",
       "    </tr>\n",
       "  </thead>\n",
       "  <tbody>\n",
       "    <tr>\n",
       "      <th>0</th>\n",
       "      <td>Normal</td>\n",
       "      <td>2</td>\n",
       "      <td>mayasolovely como mulher você não deve reclama...</td>\n",
       "      <td>mayasolovely   woman shouldnt complain cleanin...</td>\n",
       "      <td>mayasolovelyr como mulher você não dever recla...</td>\n",
       "      <td>mayasolovely    woman should not complain clea...</td>\n",
       "      <td>['mayasolovelyr', 'como', 'mulher', 'você', 'n...</td>\n",
       "      <td>['mayasolovely', 'woman', 'should', 'not', 'co...</td>\n",
       "    </tr>\n",
       "    <tr>\n",
       "      <th>5</th>\n",
       "      <td>Hate Speech</td>\n",
       "      <td>0</td>\n",
       "      <td>tmadisonx  merda simplesmente  surpreende</td>\n",
       "      <td>tmadisonx shit blows meclaim  faithful somebod...</td>\n",
       "      <td>tmadisonx   merda simplesmente   surpreender</td>\n",
       "      <td>tmadisonx shit blow meclaim   faithful somebod...</td>\n",
       "      <td>['tmadisonx', 'merda', 'simplesmente', 'surpre...</td>\n",
       "      <td>['tmadisonx', 'shit', 'blow', 'meclaim', 'fait...</td>\n",
       "    </tr>\n",
       "    <tr>\n",
       "      <th>9</th>\n",
       "      <td>Hate Speech</td>\n",
       "      <td>0</td>\n",
       "      <td>rhythmixx hobbies incluem lutar contra mariam...</td>\n",
       "      <td>rhythmixx hobbies include fighting mariam\\n\\n...</td>\n",
       "      <td>rhythmixx hobbie incluir lutar contra mariam...</td>\n",
       "      <td>rhythmixx hobby include fight mariam \\n\\n bitch</td>\n",
       "      <td>['rhythmixx', 'hobbie', 'incluir', 'lutar', 'c...</td>\n",
       "      <td>['rhythmixx', 'hobby', 'include', 'fight', 'ma...</td>\n",
       "    </tr>\n",
       "    <tr>\n",
       "      <th>14</th>\n",
       "      <td>Hate Speech</td>\n",
       "      <td>0</td>\n",
       "      <td>puta sai  cima  mim</td>\n",
       "      <td>bitch get</td>\n",
       "      <td>puta sair   cima   eu</td>\n",
       "      <td>bitch get</td>\n",
       "      <td>['puta', 'sair', 'cima', 'eu']</td>\n",
       "      <td>['bitch', 'get']</td>\n",
       "    </tr>\n",
       "    <tr>\n",
       "      <th>17</th>\n",
       "      <td>Hate Speech</td>\n",
       "      <td>0</td>\n",
       "      <td>vadia quem você ama</td>\n",
       "      <td>bitch  love</td>\n",
       "      <td>vader quem você amar</td>\n",
       "      <td>bitch   love</td>\n",
       "      <td>['vader', 'quem', 'você', 'amar']</td>\n",
       "      <td>['bitch', 'love']</td>\n",
       "    </tr>\n",
       "    <tr>\n",
       "      <th>...</th>\n",
       "      <td>...</td>\n",
       "      <td>...</td>\n",
       "      <td>...</td>\n",
       "      <td>...</td>\n",
       "      <td>...</td>\n",
       "      <td>...</td>\n",
       "      <td>...</td>\n",
       "      <td>...</td>\n",
       "    </tr>\n",
       "    <tr>\n",
       "      <th>24766</th>\n",
       "      <td>Hate Speech</td>\n",
       "      <td>0</td>\n",
       "      <td>vocês negros traem suas namoradas smh</td>\n",
       "      <td>niggers cheat   gfs smh</td>\n",
       "      <td>você negro traer seu namorado smh</td>\n",
       "      <td>nigger cheat    gfs smh</td>\n",
       "      <td>['você', 'negro', 'traer', 'seu', 'namorado', ...</td>\n",
       "      <td>['nigger', 'cheat', 'gfs', 'smh']</td>\n",
       "    </tr>\n",
       "    <tr>\n",
       "      <th>24769</th>\n",
       "      <td>Hate Speech</td>\n",
       "      <td>0</td>\n",
       "      <td>vocês são todos negros</td>\n",
       "      <td>youre niggers</td>\n",
       "      <td>você ser todo negro</td>\n",
       "      <td>you re nigger</td>\n",
       "      <td>['você', 'ser', 'todo', 'negro']</td>\n",
       "      <td>['you', 're', 'nigger']</td>\n",
       "    </tr>\n",
       "    <tr>\n",
       "      <th>24770</th>\n",
       "      <td>Hate Speech</td>\n",
       "      <td>0</td>\n",
       "      <td>você   retardado espero que tenha diabetes tip...</td>\n",
       "      <td>youre  retard  hope get type  diabetes die  su...</td>\n",
       "      <td>você    retardar esperar que ter diabete tipo ...</td>\n",
       "      <td>you re   retard   hope get type   diabetes die...</td>\n",
       "      <td>['você', 'retardar', 'esperar', 'que', 'ter', ...</td>\n",
       "      <td>['you', 're', 'retard', 'hope', 'get', 'type',...</td>\n",
       "    </tr>\n",
       "    <tr>\n",
       "      <th>24772</th>\n",
       "      <td>Normal</td>\n",
       "      <td>2</td>\n",
       "      <td>você foi  quebrou  coração errado baby   deixo...</td>\n",
       "      <td>youve gone broke wrong heart baby drove  redne...</td>\n",
       "      <td>você ser   quebrar   coração errar Baby    dei...</td>\n",
       "      <td>you ve go break wrong heart baby drive   redne...</td>\n",
       "      <td>['você', 'ser', 'quebrar', 'coração', 'errar',...</td>\n",
       "      <td>['you', 've', 'go', 'break', 'wrong', 'heart',...</td>\n",
       "    </tr>\n",
       "    <tr>\n",
       "      <th>24775</th>\n",
       "      <td>Normal</td>\n",
       "      <td>2</td>\n",
       "      <td>babado  ntac eileen dahlia  linda combinação  ...</td>\n",
       "      <td>ruffled  ntac eileen dahlia  beautiful color c...</td>\n",
       "      <td>babar   ntac eileen dahlia   lindo combinação ...</td>\n",
       "      <td>ruffle   ntac eileen dahlia   beautiful color ...</td>\n",
       "      <td>['babar', 'ntac', 'eileen', 'dahlia', 'lindo',...</td>\n",
       "      <td>['ruffle', 'ntac', 'eileen', 'dahlia', 'beauti...</td>\n",
       "    </tr>\n",
       "  </tbody>\n",
       "</table>\n",
       "<p>8900 rows × 8 columns</p>\n",
       "</div>"
      ],
      "text/plain": [
       "      classification  label  \\\n",
       "0             Normal      2   \n",
       "5        Hate Speech      0   \n",
       "9        Hate Speech      0   \n",
       "14       Hate Speech      0   \n",
       "17       Hate Speech      0   \n",
       "...              ...    ...   \n",
       "24766    Hate Speech      0   \n",
       "24769    Hate Speech      0   \n",
       "24770    Hate Speech      0   \n",
       "24772         Normal      2   \n",
       "24775         Normal      2   \n",
       "\n",
       "                                               tweets_pt  \\\n",
       "0      mayasolovely como mulher você não deve reclama...   \n",
       "5              tmadisonx  merda simplesmente  surpreende   \n",
       "9       rhythmixx hobbies incluem lutar contra mariam...   \n",
       "14                                   puta sai  cima  mim   \n",
       "17                                   vadia quem você ama   \n",
       "...                                                  ...   \n",
       "24766              vocês negros traem suas namoradas smh   \n",
       "24769                             vocês são todos negros   \n",
       "24770  você   retardado espero que tenha diabetes tip...   \n",
       "24772  você foi  quebrou  coração errado baby   deixo...   \n",
       "24775  babado  ntac eileen dahlia  linda combinação  ...   \n",
       "\n",
       "                                               tweets_en  \\\n",
       "0      mayasolovely   woman shouldnt complain cleanin...   \n",
       "5      tmadisonx shit blows meclaim  faithful somebod...   \n",
       "9       rhythmixx hobbies include fighting mariam\\n\\n...   \n",
       "14                                             bitch get   \n",
       "17                                           bitch  love   \n",
       "...                                                  ...   \n",
       "24766                            niggers cheat   gfs smh   \n",
       "24769                                      youre niggers   \n",
       "24770  youre  retard  hope get type  diabetes die  su...   \n",
       "24772  youve gone broke wrong heart baby drove  redne...   \n",
       "24775  ruffled  ntac eileen dahlia  beautiful color c...   \n",
       "\n",
       "                                                pt_lemma  \\\n",
       "0      mayasolovelyr como mulher você não dever recla...   \n",
       "5           tmadisonx   merda simplesmente   surpreender   \n",
       "9        rhythmixx hobbie incluir lutar contra mariam...   \n",
       "14                                 puta sair   cima   eu   \n",
       "17                                  vader quem você amar   \n",
       "...                                                  ...   \n",
       "24766                  você negro traer seu namorado smh   \n",
       "24769                                você ser todo negro   \n",
       "24770  você    retardar esperar que ter diabete tipo ...   \n",
       "24772  você ser   quebrar   coração errar Baby    dei...   \n",
       "24775  babar   ntac eileen dahlia   lindo combinação ...   \n",
       "\n",
       "                                                en_lemma  \\\n",
       "0      mayasolovely    woman should not complain clea...   \n",
       "5      tmadisonx shit blow meclaim   faithful somebod...   \n",
       "9        rhythmixx hobby include fight mariam \\n\\n bitch   \n",
       "14                                             bitch get   \n",
       "17                                          bitch   love   \n",
       "...                                                  ...   \n",
       "24766                            nigger cheat    gfs smh   \n",
       "24769                                      you re nigger   \n",
       "24770  you re   retard   hope get type   diabetes die...   \n",
       "24772  you ve go break wrong heart baby drive   redne...   \n",
       "24775  ruffle   ntac eileen dahlia   beautiful color ...   \n",
       "\n",
       "                                               pt_tokens  \\\n",
       "0      ['mayasolovelyr', 'como', 'mulher', 'você', 'n...   \n",
       "5      ['tmadisonx', 'merda', 'simplesmente', 'surpre...   \n",
       "9      ['rhythmixx', 'hobbie', 'incluir', 'lutar', 'c...   \n",
       "14                        ['puta', 'sair', 'cima', 'eu']   \n",
       "17                     ['vader', 'quem', 'você', 'amar']   \n",
       "...                                                  ...   \n",
       "24766  ['você', 'negro', 'traer', 'seu', 'namorado', ...   \n",
       "24769                   ['você', 'ser', 'todo', 'negro']   \n",
       "24770  ['você', 'retardar', 'esperar', 'que', 'ter', ...   \n",
       "24772  ['você', 'ser', 'quebrar', 'coração', 'errar',...   \n",
       "24775  ['babar', 'ntac', 'eileen', 'dahlia', 'lindo',...   \n",
       "\n",
       "                                               en_tokens  \n",
       "0      ['mayasolovely', 'woman', 'should', 'not', 'co...  \n",
       "5      ['tmadisonx', 'shit', 'blow', 'meclaim', 'fait...  \n",
       "9      ['rhythmixx', 'hobby', 'include', 'fight', 'ma...  \n",
       "14                                      ['bitch', 'get']  \n",
       "17                                     ['bitch', 'love']  \n",
       "...                                                  ...  \n",
       "24766                  ['nigger', 'cheat', 'gfs', 'smh']  \n",
       "24769                            ['you', 're', 'nigger']  \n",
       "24770  ['you', 're', 'retard', 'hope', 'get', 'type',...  \n",
       "24772  ['you', 've', 'go', 'break', 'wrong', 'heart',...  \n",
       "24775  ['ruffle', 'ntac', 'eileen', 'dahlia', 'beauti...  \n",
       "\n",
       "[8900 rows x 8 columns]"
      ]
     },
     "execution_count": 7,
     "metadata": {},
     "output_type": "execute_result"
    }
   ],
   "source": [
    "df_b"
   ]
  },
  {
   "cell_type": "code",
   "execution_count": 8,
   "metadata": {},
   "outputs": [
    {
     "data": {
      "text/plain": [
       "0        ['mayasolovelyr', 'como', 'mulher', 'você', 'n...\n",
       "5        ['tmadisonx', 'merda', 'simplesmente', 'surpre...\n",
       "9        ['rhythmixx', 'hobbie', 'incluir', 'lutar', 'c...\n",
       "14                          ['puta', 'sair', 'cima', 'eu']\n",
       "17                       ['vader', 'quem', 'você', 'amar']\n",
       "                               ...                        \n",
       "24766    ['você', 'negro', 'traer', 'seu', 'namorado', ...\n",
       "24769                     ['você', 'ser', 'todo', 'negro']\n",
       "24770    ['você', 'retardar', 'esperar', 'que', 'ter', ...\n",
       "24772    ['você', 'ser', 'quebrar', 'coração', 'errar',...\n",
       "24775    ['babar', 'ntac', 'eileen', 'dahlia', 'lindo',...\n",
       "Name: pt_tokens, Length: 8900, dtype: object"
      ]
     },
     "execution_count": 8,
     "metadata": {},
     "output_type": "execute_result"
    }
   ],
   "source": [
    "X = df_b['pt_tokens']\n",
    "X"
   ]
  },
  {
   "cell_type": "code",
   "execution_count": 9,
   "metadata": {},
   "outputs": [
    {
     "data": {
      "text/plain": [
       "0             Normal\n",
       "5        Hate Speech\n",
       "9        Hate Speech\n",
       "14       Hate Speech\n",
       "17       Hate Speech\n",
       "            ...     \n",
       "24766    Hate Speech\n",
       "24769    Hate Speech\n",
       "24770    Hate Speech\n",
       "24772         Normal\n",
       "24775         Normal\n",
       "Name: classification, Length: 8900, dtype: object"
      ]
     },
     "execution_count": 9,
     "metadata": {},
     "output_type": "execute_result"
    }
   ],
   "source": [
    "y = df_b['classification']\n",
    "y"
   ]
  },
  {
   "cell_type": "code",
   "execution_count": 10,
   "metadata": {},
   "outputs": [],
   "source": [
    "from sklearn.model_selection import train_test_split\n",
    "\n",
    "X_train, X_test, y_train, y_test = train_test_split(X, y, test_size=0.25, random_state=42)"
   ]
  },
  {
   "cell_type": "code",
   "execution_count": 11,
   "metadata": {},
   "outputs": [],
   "source": [
    "from sklearn.feature_extraction.text import TfidfVectorizer\n",
    "\n",
    "vectorizer = TfidfVectorizer()\n",
    "X_train = vectorizer.fit_transform(X_train)\n",
    "X_test = vectorizer.transform(X_test)"
   ]
  },
  {
   "cell_type": "code",
   "execution_count": 12,
   "metadata": {},
   "outputs": [],
   "source": [
    "from sklearn.naive_bayes import BernoulliNB\n",
    "\n",
    "clf = BernoulliNB()\n",
    "model = clf.fit(X_train, y_train)"
   ]
  },
  {
   "cell_type": "code",
   "execution_count": 13,
   "metadata": {},
   "outputs": [
    {
     "data": {
      "text/plain": [
       "0.8310112359550562"
      ]
     },
     "execution_count": 13,
     "metadata": {},
     "output_type": "execute_result"
    }
   ],
   "source": [
    "from sklearn.metrics import accuracy_score\n",
    "\n",
    "accuracy_score(y_test, model.predict(X_test))"
   ]
  },
  {
   "cell_type": "code",
   "execution_count": 14,
   "metadata": {},
   "outputs": [
    {
     "name": "stdout",
     "output_type": "stream",
     "text": [
      "              precision    recall  f1-score   support\n",
      "\n",
      " Hate Speech       0.79      0.96      0.86      1257\n",
      "      Normal       0.92      0.67      0.78       968\n",
      "\n",
      "    accuracy                           0.83      2225\n",
      "   macro avg       0.86      0.81      0.82      2225\n",
      "weighted avg       0.85      0.83      0.83      2225\n",
      "\n"
     ]
    }
   ],
   "source": [
    "from sklearn.metrics import classification_report\n",
    "\n",
    "\n",
    "y_prob = clf.predict_proba(X_test)\n",
    "# print(y_prob)\n",
    "y_pred = clf.predict(X_test)\n",
    "# print(y_pred)\n",
    "\n",
    "print(classification_report(y_test, y_pred))"
   ]
  },
  {
   "cell_type": "code",
   "execution_count": 15,
   "metadata": {},
   "outputs": [
    {
     "data": {
      "text/plain": [
       "array(['Hate Speech'], dtype='<U11')"
      ]
     },
     "execution_count": 15,
     "metadata": {},
     "output_type": "execute_result"
    }
   ],
   "source": [
    "my_input = ''\n",
    "my_input = vectorizer.transform([my_input])\n",
    "model.predict(my_input)"
   ]
  },
  {
   "cell_type": "code",
   "execution_count": 20,
   "metadata": {},
   "outputs": [],
   "source": [
    "y_train_pred = model.predict(X_train)\n",
    "y_test_pred = model.predict(X_test)\n",
    "\n",
    "train_accuracy = accuracy_score(y_train, y_train_pred)\n",
    "test_accuracy = accuracy_score(y_test, y_test_pred)"
   ]
  },
  {
   "cell_type": "code",
   "execution_count": 22,
   "metadata": {},
   "outputs": [
    {
     "name": "stdout",
     "output_type": "stream",
     "text": [
      "Acurácia no conjunto de treinamento: 0.9502621722846442\n",
      "Acurácia no conjunto de teste: 0.8310112359550562\n"
     ]
    }
   ],
   "source": [
    "print(\"Acurácia no conjunto de treinamento:\", train_accuracy)\n",
    "print(\"Acurácia no conjunto de teste:\", test_accuracy)"
   ]
  },
  {
   "cell_type": "code",
   "execution_count": 23,
   "metadata": {},
   "outputs": [
    {
     "name": "stdout",
     "output_type": "stream",
     "text": [
      "Overfitting: 0.11925093632958794\n"
     ]
    }
   ],
   "source": [
    "overfitting_0 = train_accuracy - test_accuracy\n",
    "overfitting = round(overfitting_0, 2)\n",
    "print(\"Overfitting:\", overfitting)"
   ]
  },
  {
   "cell_type": "code",
   "execution_count": null,
   "metadata": {},
   "outputs": [],
   "source": [
    "import matplotlib.pyplot as plt\n",
    "\n",
    "# Configuração do gráfico\n",
    "labels = ['Treinamento', 'Teste']\n",
    "values = [train_accuracy, test_accuracy]\n",
    "colors = ['red', 'blue']\n",
    "\n",
    "# Plotagem do gráfico de barras\n",
    "plt.bar(labels, values, color=colors)\n",
    "\n",
    "# Adição do texto com os valores\n",
    "for i, value in enumerate(values):\n",
    "    plt.text(i, value, str(round(value, 2)), ha='center', va='bottom')\n",
    "\n",
    "# Título e rótulos dos eixos\n",
    "plt.title('Acurácia - Train vs Test')\n",
    "plt.xlabel('Conjunto de Dados')\n",
    "plt.ylabel('Acurácia')\n",
    "\n",
    "# Exibição do gráfico\n",
    "plt.show()"
   ]
  }
 ],
 "metadata": {
  "kernelspec": {
   "display_name": "Python 3",
   "language": "python",
   "name": "python3"
  },
  "language_info": {
   "codemirror_mode": {
    "name": "ipython",
    "version": 3
   },
   "file_extension": ".py",
   "mimetype": "text/x-python",
   "name": "python",
   "nbconvert_exporter": "python",
   "pygments_lexer": "ipython3",
   "version": "3.11.0"
  },
  "orig_nbformat": 4
 },
 "nbformat": 4,
 "nbformat_minor": 2
}
