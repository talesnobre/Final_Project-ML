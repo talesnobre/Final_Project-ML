{
 "cells": [
  {
   "attachments": {},
   "cell_type": "markdown",
   "metadata": {},
   "source": [
    "## Neural Network"
   ]
  },
  {
   "cell_type": "code",
   "execution_count": 1,
   "metadata": {},
   "outputs": [],
   "source": [
    "import pandas as pd\n",
    "import numpy as np\n",
    "import torch\n",
    "import torch.nn as nn\n",
    "import torch.optim as optim\n",
    "from torch.utils.data import DataLoader, TensorDataset\n",
    "from sklearn.feature_extraction.text import TfidfVectorizer\n",
    "from sklearn.preprocessing import LabelEncoder\n",
    "from sklearn.model_selection import train_test_split\n",
    "from sklearn.metrics import accuracy_score, confusion_matrix, classification_report"
   ]
  },
  {
   "cell_type": "code",
   "execution_count": 2,
   "metadata": {},
   "outputs": [
    {
     "data": {
      "text/html": [
       "<div>\n",
       "<style scoped>\n",
       "    .dataframe tbody tr th:only-of-type {\n",
       "        vertical-align: middle;\n",
       "    }\n",
       "\n",
       "    .dataframe tbody tr th {\n",
       "        vertical-align: top;\n",
       "    }\n",
       "\n",
       "    .dataframe thead th {\n",
       "        text-align: right;\n",
       "    }\n",
       "</style>\n",
       "<table border=\"1\" class=\"dataframe\">\n",
       "  <thead>\n",
       "    <tr style=\"text-align: right;\">\n",
       "      <th></th>\n",
       "      <th>classification</th>\n",
       "      <th>label</th>\n",
       "      <th>tweets_pt</th>\n",
       "      <th>tweets_en</th>\n",
       "      <th>pt_lemma</th>\n",
       "      <th>en_lemma</th>\n",
       "      <th>pt_tokens</th>\n",
       "      <th>en_tokens</th>\n",
       "    </tr>\n",
       "  </thead>\n",
       "  <tbody>\n",
       "    <tr>\n",
       "      <th>0</th>\n",
       "      <td>Normal</td>\n",
       "      <td>2</td>\n",
       "      <td>mayasolovely como mulher você não deve reclama...</td>\n",
       "      <td>mayasolovely   woman shouldnt complain cleanin...</td>\n",
       "      <td>mayasolovelyr como mulher você não dever recla...</td>\n",
       "      <td>mayasolovely    woman should not complain clea...</td>\n",
       "      <td>['mayasolovelyr', 'como', 'mulher', 'você', 'n...</td>\n",
       "      <td>['mayasolovely', 'woman', 'should', 'not', 'co...</td>\n",
       "    </tr>\n",
       "    <tr>\n",
       "      <th>1</th>\n",
       "      <td>Offensive</td>\n",
       "      <td>1</td>\n",
       "      <td>menino dats frio  tyga dwn ruim para cuffin da...</td>\n",
       "      <td>boy dats coldtyga dwn bad cuffin dat hoe   place</td>\n",
       "      <td>menino dats frio   tyga dwn ruim para cuffin d...</td>\n",
       "      <td>boy dat coldtyga dwn bad cuffin dat hoe    place</td>\n",
       "      <td>['menino', 'dats', 'frio', 'tyga', 'dwn', 'rui...</td>\n",
       "      <td>['boy', 'dat', 'coldtyga', 'dwn', 'bad', 'cuff...</td>\n",
       "    </tr>\n",
       "    <tr>\n",
       "      <th>2</th>\n",
       "      <td>Offensive</td>\n",
       "      <td>1</td>\n",
       "      <td>urkindofbrand cara   você  fodeu uma cadela  e...</td>\n",
       "      <td>urkindofbrand dawg   ever fuck  bitch start  c...</td>\n",
       "      <td>urkindofbrand cara    você   foder um cadela  ...</td>\n",
       "      <td>urkindofbrand dawg    ever fuck   bitch start ...</td>\n",
       "      <td>['urkindofbrand', 'cara', 'você', 'foder', 'um...</td>\n",
       "      <td>['urkindofbrand', 'dawg', 'ever', 'fuck', 'bit...</td>\n",
       "    </tr>\n",
       "    <tr>\n",
       "      <th>3</th>\n",
       "      <td>Offensive</td>\n",
       "      <td>1</td>\n",
       "      <td>cganderson vivabased ela parece uma travesti</td>\n",
       "      <td>cganderson vivabased look like  tranny</td>\n",
       "      <td>Cganderson Vivabased ela parecer um travesti</td>\n",
       "      <td>cganderson vivabase look like   tranny</td>\n",
       "      <td>['Cganderson', 'Vivabased', 'ela', 'parecer', ...</td>\n",
       "      <td>['cganderson', 'vivabase', 'look', 'like', 'tr...</td>\n",
       "    </tr>\n",
       "  </tbody>\n",
       "</table>\n",
       "</div>"
      ],
      "text/plain": [
       "  classification  label                                          tweets_pt  \\\n",
       "0         Normal      2  mayasolovely como mulher você não deve reclama...   \n",
       "1      Offensive      1  menino dats frio  tyga dwn ruim para cuffin da...   \n",
       "2      Offensive      1  urkindofbrand cara   você  fodeu uma cadela  e...   \n",
       "3      Offensive      1       cganderson vivabased ela parece uma travesti   \n",
       "\n",
       "                                           tweets_en  \\\n",
       "0  mayasolovely   woman shouldnt complain cleanin...   \n",
       "1   boy dats coldtyga dwn bad cuffin dat hoe   place   \n",
       "2  urkindofbrand dawg   ever fuck  bitch start  c...   \n",
       "3             cganderson vivabased look like  tranny   \n",
       "\n",
       "                                            pt_lemma  \\\n",
       "0  mayasolovelyr como mulher você não dever recla...   \n",
       "1  menino dats frio   tyga dwn ruim para cuffin d...   \n",
       "2  urkindofbrand cara    você   foder um cadela  ...   \n",
       "3       Cganderson Vivabased ela parecer um travesti   \n",
       "\n",
       "                                            en_lemma  \\\n",
       "0  mayasolovely    woman should not complain clea...   \n",
       "1   boy dat coldtyga dwn bad cuffin dat hoe    place   \n",
       "2  urkindofbrand dawg    ever fuck   bitch start ...   \n",
       "3             cganderson vivabase look like   tranny   \n",
       "\n",
       "                                           pt_tokens  \\\n",
       "0  ['mayasolovelyr', 'como', 'mulher', 'você', 'n...   \n",
       "1  ['menino', 'dats', 'frio', 'tyga', 'dwn', 'rui...   \n",
       "2  ['urkindofbrand', 'cara', 'você', 'foder', 'um...   \n",
       "3  ['Cganderson', 'Vivabased', 'ela', 'parecer', ...   \n",
       "\n",
       "                                           en_tokens  \n",
       "0  ['mayasolovely', 'woman', 'should', 'not', 'co...  \n",
       "1  ['boy', 'dat', 'coldtyga', 'dwn', 'bad', 'cuff...  \n",
       "2  ['urkindofbrand', 'dawg', 'ever', 'fuck', 'bit...  \n",
       "3  ['cganderson', 'vivabase', 'look', 'like', 'tr...  "
      ]
     },
     "execution_count": 2,
     "metadata": {},
     "output_type": "execute_result"
    }
   ],
   "source": [
    "df = pd.read_csv('Dados/twitter.csv')\n",
    "df.head(4)"
   ]
  },
  {
   "cell_type": "code",
   "execution_count": 3,
   "metadata": {},
   "outputs": [],
   "source": [
    "X_train, X_test, y_train, y_test = train_test_split(df.pt_lemma, df.label, test_size=0.2, random_state=42)\n"
   ]
  },
  {
   "cell_type": "code",
   "execution_count": 4,
   "metadata": {},
   "outputs": [
    {
     "name": "stdout",
     "output_type": "stream",
     "text": [
      "X shape:  torch.Size([32, 24760])\n",
      "y shape:  torch.Size([32]) torch.int64\n"
     ]
    }
   ],
   "source": [
    "le = LabelEncoder()\n",
    "vectorizer = TfidfVectorizer()\n",
    "\n",
    "X_train = vectorizer.fit_transform(X_train)\n",
    "X_test = vectorizer.transform(X_test)\n",
    "y_train = le.fit_transform(y_train)\n",
    "y_test = le.fit_transform(y_test)\n",
    "\n",
    "train_dataset = TensorDataset(torch.Tensor(X_train.toarray()), torch.Tensor(y_train).long())\n",
    "test_dataset = TensorDataset(torch.Tensor(X_test.toarray()), torch.Tensor(y_test).long())\n",
    "\n",
    "batch_size = 32\n",
    "\n",
    "train_loader = DataLoader(train_dataset, batch_size=batch_size, shuffle=True)\n",
    "test_loader = DataLoader(test_dataset, batch_size=batch_size, shuffle=False)\n",
    "\n",
    "for X, y in train_loader:\n",
    "    print('X shape: ', X.shape)\n",
    "    print('y shape: ', y.shape, y.dtype)\n",
    "    len_entrada = X.shape[1]\n",
    "    break\n",
    "len_saida = len(set(y_test))"
   ]
  },
  {
   "cell_type": "code",
   "execution_count": 1,
   "metadata": {},
   "outputs": [],
   "source": [
    "# import torch\n",
    "# import torch.nn as nn\n",
    "# import torch.optim as optim\n",
    "# import optuna\n",
    "\n",
    "# device = 'cuda' if torch.cuda.is_available() else 'cpu'\n",
    "# print('Using {} device'.format(device))\n",
    "\n",
    "# def objective(trial):\n",
    "    \n",
    "#     dropout_rate = trial.suggest_float(\"dropout_rate\", 0.0, 0.3)\n",
    "#     hidden_size = trial.suggest_int(\"hidden_size\", 3, 16)\n",
    "\n",
    "#     model = NeuralNetwork(hidden_size, dropout_rate).to(device)\n",
    "#     criterion = nn.CrossEntropyLoss()\n",
    "#     optimizer = optim.Adam(model.parameters())\n",
    "\n",
    "#     with torch.no_grad():\n",
    "#         model.eval()\n",
    "#         y_pred = model(X.to(device))\n",
    "#         y_pred = torch.argmax(y_pred, dim=1).cpu().numpy()\n",
    "#         accuracy = accuracy_score(y, y_pred)\n",
    "\n",
    "#     return accuracy\n",
    "\n",
    "# class NeuralNetwork(nn.Module):\n",
    "#     def __init__(self, hidden_size, dropout_rate):\n",
    "#         super().__init__()\n",
    "#         self.flatten = nn.Flatten()\n",
    "#         self.linear_relu_stack = nn.Sequential(\n",
    "#             nn.Linear(len_entrada, hidden_size),\n",
    "#             nn.ReLU(),\n",
    "#             nn.Dropout(dropout_rate),\n",
    "#             nn.Linear(hidden_size, hidden_size),\n",
    "#             nn.ReLU(),\n",
    "#             nn.Dropout(dropout_rate),\n",
    "#             nn.Linear(hidden_size, len_saida)\n",
    "#         )\n",
    "\n",
    "#     def forward(self, x):\n",
    "#         x = self.flatten(x)\n",
    "#         logits = self.linear_relu_stack(x)\n",
    "#         return logits\n",
    "\n",
    "\n",
    "# study = optuna.create_study(direction=\"maximize\")\n",
    "# study.optimize(objective, n_trials=100)\n",
    "\n",
    "# best_params = study.best_params\n",
    "# print(\"Best Params:\", best_params)\n",
    "\n",
    "# best_model = NeuralNetwork(best_params[\"hidden_size\"], best_params[\"dropout_rate\"]).to(device)\n",
    "# print(best_model)"
   ]
  },
  {
   "cell_type": "code",
   "execution_count": 19,
   "metadata": {},
   "outputs": [
    {
     "name": "stdout",
     "output_type": "stream",
     "text": [
      "Using cpu device\n",
      "NeuralNetwork(\n",
      "  (flatten): Flatten(start_dim=1, end_dim=-1)\n",
      "  (linear_relu_stack): Sequential(\n",
      "    (0): Linear(in_features=24760, out_features=5, bias=True)\n",
      "    (1): ReLU()\n",
      "    (2): Dropout(p=0.08, inplace=False)\n",
      "    (3): Linear(in_features=5, out_features=5, bias=True)\n",
      "    (4): ReLU()\n",
      "    (5): Dropout(p=0.08, inplace=False)\n",
      "    (6): Linear(in_features=5, out_features=3, bias=True)\n",
      "  )\n",
      ")\n",
      "linear_relu_stack.0:\tLinear\t123805\n",
      "linear_relu_stack.3:\tLinear\t30\n",
      "linear_relu_stack.6:\tLinear\t18\n",
      "\n",
      "Total params: 123853\n",
      "Trainable params: 123853\n",
      "Non-trainable params: 0\n",
      "Total output size: 0\n"
     ]
    }
   ],
   "source": [
    "def summary(model, input_size):\n",
    "    total_params = 0\n",
    "    total_output = 0\n",
    "    trainable_params = 0\n",
    "\n",
    "    def hook(module, input, output):\n",
    "        nonlocal total_output\n",
    "        total_output += torch.prod(torch.tensor(output.shape))\n",
    "        \n",
    "    for name, module in model.named_modules():\n",
    "        if isinstance(module, nn.Conv2d) or isinstance(module, nn.Linear):\n",
    "            module.register_forward_hook(hook)\n",
    "            params = sum(p.numel() for p in module.parameters() if p.requires_grad)\n",
    "            total_params += params\n",
    "            trainable_params += params\n",
    "            print(f\"{name}:\\t{module.__class__.__name__}\\t{params}\")\n",
    "    \n",
    "    print(f\"\\nTotal params: {total_params}\")\n",
    "    print(f\"Trainable params: {trainable_params}\")\n",
    "    print(f\"Non-trainable params: {total_params - trainable_params}\")\n",
    "    print(f\"Total output size: {total_output}\")\n",
    "\n",
    "device = 'mps' if torch.backends.mps.is_available() else 'cpu'\n",
    "print('Using {} device'.format(device))\n",
    "\n",
    "class NeuralNetwork(nn.Module):\n",
    "    def __init__(self):\n",
    "        super().__init__()\n",
    "        self.flatten = nn.Flatten()\n",
    "\n",
    "        self.linear_relu_stack = nn.Sequential(\n",
    "            nn.Linear(len_entrada, 5),\n",
    "            nn.ReLU(),\n",
    "            nn.Dropout(0.08),\n",
    "            nn.Linear(5, 5),\n",
    "            nn.ReLU(),\n",
    "            nn.Dropout(0.08),\n",
    "            nn.Linear(5, len_saida)\n",
    "        )\n",
    "\n",
    "    def forward(self, x):\n",
    "        x = self.flatten(x)\n",
    "        logits = self.linear_relu_stack(x)\n",
    "        return logits\n",
    "\n",
    "model = NeuralNetwork().to(device)\n",
    "print(model)\n",
    "\n",
    "input_size = (1, len_entrada)\n",
    "summary(model, input_size)"
   ]
  },
  {
   "cell_type": "code",
   "execution_count": 20,
   "metadata": {},
   "outputs": [],
   "source": [
    "L2_PENALTY = 1e-4"
   ]
  },
  {
   "cell_type": "code",
   "execution_count": 21,
   "metadata": {},
   "outputs": [],
   "source": [
    "loss_fn = nn.CrossEntropyLoss()\n",
    "optimizer = torch.optim.Adam(model.parameters(), lr=0.001, weight_decay=L2_PENALTY)"
   ]
  },
  {
   "cell_type": "code",
   "execution_count": 22,
   "metadata": {},
   "outputs": [],
   "source": [
    "def train(dataloader, model, loss_fn, optimizer):\n",
    "    size = len(dataloader.dataset)\n",
    "    train_loss = 0\n",
    "\n",
    "    for batch, (X, y) in enumerate(dataloader):\n",
    "        X, y = X.to(device), y.to(device)\n",
    "\n",
    "        # Compute prediction error\n",
    "        pred = model(X)\n",
    "        loss = loss_fn(pred, y)\n",
    "        train_loss += loss.item()\n",
    "\n",
    "        # Backpropagation\n",
    "        optimizer.zero_grad()\n",
    "        loss.backward()\n",
    "        optimizer.step()\n",
    "\n",
    "        if batch % 100 == 0:\n",
    "            loss, current = loss.item(), batch * len(X)\n",
    "            print(f'loss: {loss:>7f}  [{current:>5d}/{size:>5d}]')\n",
    "\n",
    "    train_loss /= size\n",
    "    return train_loss"
   ]
  },
  {
   "cell_type": "code",
   "execution_count": 23,
   "metadata": {},
   "outputs": [],
   "source": [
    "def test(dataloader, model, loss_fn):\n",
    "    size = len(dataloader.dataset)\n",
    "    num_batches = len(dataloader)\n",
    "\n",
    "    test_loss, correct = 0, 0\n",
    "\n",
    "    with torch.no_grad():\n",
    "        for X, y in dataloader:\n",
    "            X, y = X.to(device), y.to(device)\n",
    "            pred = model(X)\n",
    "            \n",
    "            loss = loss_fn(pred, y)\n",
    "            test_loss += loss.item()\n",
    "\n",
    "            correct += (pred.argmax(1) == y).type(torch.float).sum().item()\n",
    "    \n",
    "    test_loss /= size\n",
    "    correct /= size\n",
    "    print(f'Test Error: Accuracy: {(100*correct):>0.1f}%, Avg loss: {test_loss:>8f} ')\n",
    "\n",
    "    return test_loss"
   ]
  },
  {
   "cell_type": "code",
   "execution_count": 24,
   "metadata": {},
   "outputs": [
    {
     "name": "stdout",
     "output_type": "stream",
     "text": [
      "Epoch 1 -------------------------------\n",
      "loss: 1.370672  [    0/19820]\n",
      "loss: 1.154269  [ 3200/19820]\n",
      "loss: 0.936870  [ 6400/19820]\n",
      "loss: 0.949479  [ 9600/19820]\n",
      "loss: 1.135286  [12800/19820]\n",
      "loss: 0.939777  [16000/19820]\n",
      "loss: 0.818275  [19200/19820]\n",
      "Test Error: Accuracy: 64.6%, Avg loss: 0.024946 \n",
      "Epoch 2 -------------------------------\n",
      "loss: 0.875090  [    0/19820]\n",
      "loss: 0.603830  [ 3200/19820]\n",
      "loss: 0.726360  [ 6400/19820]\n",
      "loss: 0.436872  [ 9600/19820]\n",
      "loss: 0.660099  [12800/19820]\n",
      "loss: 0.602337  [16000/19820]\n",
      "loss: 0.698618  [19200/19820]\n",
      "Test Error: Accuracy: 72.7%, Avg loss: 0.021364 \n",
      "Epoch 3 -------------------------------\n",
      "loss: 0.676238  [    0/19820]\n",
      "loss: 0.621820  [ 3200/19820]\n",
      "loss: 0.626226  [ 6400/19820]\n",
      "loss: 0.588943  [ 9600/19820]\n",
      "loss: 0.582859  [12800/19820]\n",
      "loss: 0.458049  [16000/19820]\n",
      "loss: 0.494859  [19200/19820]\n",
      "Test Error: Accuracy: 73.0%, Avg loss: 0.020773 \n",
      "Epoch 4 -------------------------------\n",
      "loss: 0.570732  [    0/19820]\n",
      "loss: 0.519835  [ 3200/19820]\n",
      "loss: 0.351757  [ 6400/19820]\n",
      "loss: 0.736700  [ 9600/19820]\n",
      "loss: 0.622581  [12800/19820]\n",
      "loss: 0.417398  [16000/19820]\n",
      "loss: 0.659579  [19200/19820]\n",
      "Test Error: Accuracy: 73.4%, Avg loss: 0.021535 \n",
      "Epoch 5 -------------------------------\n",
      "loss: 0.292504  [    0/19820]\n",
      "loss: 0.416692  [ 3200/19820]\n",
      "loss: 0.459482  [ 6400/19820]\n",
      "loss: 0.378366  [ 9600/19820]\n",
      "loss: 0.383822  [12800/19820]\n",
      "loss: 0.378516  [16000/19820]\n",
      "loss: 0.404096  [19200/19820]\n",
      "Test Error: Accuracy: 73.3%, Avg loss: 0.022598 \n"
     ]
    }
   ],
   "source": [
    "epochs = 5\n",
    "train_losses = []\n",
    "test_losses = []\n",
    "for t in range(epochs):\n",
    "    print(f'Epoch {t+1} -------------------------------')\n",
    "    train_losses.append(train(train_loader, model, loss_fn, optimizer))\n",
    "    test_losses.append(test(test_loader, model, loss_fn))"
   ]
  },
  {
   "cell_type": "code",
   "execution_count": 25,
   "metadata": {},
   "outputs": [
    {
     "data": {
      "image/png": "[encoded data removed]",
      "text/plain": [
       "<Figure size 640x480 with 1 Axes>"
      ]
     },
     "metadata": {},
     "output_type": "display_data"
    }
   ],
   "source": [
    "import matplotlib.pyplot as plt\n",
    "\n",
    "plt.plot(train_losses, label='train')\n",
    "plt.plot(test_losses, label='test')\n",
    "plt.xlabel('Epoch')\n",
    "plt.ylabel('Loss')\n",
    "plt.xticks()\n",
    "plt.yticks()\n",
    "plt.legend()\n",
    "plt.grid(True)\n",
    "plt.show()"
   ]
  },
  {
   "attachments": {},
   "cell_type": "markdown",
   "metadata": {},
   "source": [
    "### Keras"
   ]
  },
  {
   "cell_type": "code",
   "execution_count": 4,
   "metadata": {},
   "outputs": [],
   "source": [
    "# from tensorflow.keras.preprocessing.text import Tokenizer\n",
    "# from tensorflow.keras.preprocessing.sequence import pad_sequences\n",
    "# from tensorflow.keras.models import Sequential\n",
    "# from tensorflow.keras.layers import Embedding, LSTM, Dense, Dropout"
   ]
  },
  {
   "cell_type": "code",
   "execution_count": 5,
   "metadata": {},
   "outputs": [],
   "source": [
    "# tokenizer = Tokenizer()\n",
    "\n",
    "# tokenizer.fit_on_texts(X_train)\n",
    "\n",
    "# X_train = tokenizer.texts_to_sequences(X_train)\n",
    "# X_test = tokenizer.texts_to_sequences(X_test)\n",
    "\n",
    "# vocab_size = len(tokenizer.word_index) + 1"
   ]
  },
  {
   "cell_type": "code",
   "execution_count": 6,
   "metadata": {},
   "outputs": [],
   "source": [
    "# max_length = max(len(seq) for seq in X_train)\n",
    "\n",
    "# for x in X_test:\n",
    "#     if len(x) > max_length:\n",
    "#         print(f\"an outlier detected: {x}\")\n",
    "\n",
    "# X_train = pad_sequences(X_train, maxlen = max_length)\n",
    "# X_test = pad_sequences(X_test, maxlen = max_length)"
   ]
  },
  {
   "cell_type": "code",
   "execution_count": 7,
   "metadata": {},
   "outputs": [],
   "source": [
    "# import tensorflow as tf\n",
    "# from tensorflow import keras\n",
    "# from tensorflow.keras.models import Sequential\n",
    "# from tensorflow.keras.layers import Embedding, LSTM, Dense, Dropout\n",
    "# from kerastuner.tuners import RandomSearch\n",
    "\n",
    "# def build_model(hp):\n",
    "#     model = Sequential()\n",
    "#     model.add(Embedding(vocab_size, 60, input_length=max_length))\n",
    "#     model.add(LSTM(hp.Int('units', min_value=32, max_value=128, step=32), dropout=0.3, recurrent_dropout=0.3))\n",
    "#     model.add(Dropout(0.1))\n",
    "#     model.add(Dense(32, activation=\"relu\"))\n",
    "#     model.add(Dropout(0.1))\n",
    "#     model.add(Dense(1, activation=\"softmax\"))\n",
    "\n",
    "#     model.compile(optimizer='adam', loss='categorical_crossentropy', metrics=['accuracy'])\n",
    "#     return model\n",
    "\n",
    "# tuner = RandomSearch(\n",
    "#     build_model,\n",
    "#     objective='val_accuracy',\n",
    "#     max_trials=5,\n",
    "#     executions_per_trial=3,\n",
    "#     directory='my_dir',\n",
    "#     project_name='my_project'\n",
    "# )\n",
    "\n",
    "# tuner.search(X_train, y_train, epochs=10, validation_data=(X_test, y_test))\n",
    "\n",
    "# best_model = tuner.get_best_models(num_models=1)[0]\n",
    "# best_hyperparameters = tuner.get_best_hyperparameters(num_trials=1)[0]\n",
    "\n",
    "# best_model.summary()"
   ]
  },
  {
   "cell_type": "code",
   "execution_count": 8,
   "metadata": {},
   "outputs": [
    {
     "name": "stdout",
     "output_type": "stream",
     "text": [
      "Model: \"sequential\"\n",
      "_________________________________________________________________\n",
      " Layer (type)                Output Shape              Param #   \n",
      "=================================================================\n",
      " embedding (Embedding)       (None, 35, 30)            744420    \n",
      "                                                                 \n",
      " lstm (LSTM)                 (None, 32)                8064      \n",
      "                                                                 \n",
      " dropout (Dropout)           (None, 32)                0         \n",
      "                                                                 \n",
      " dense (Dense)               (None, 64)                2112      \n",
      "                                                                 \n",
      " dropout_1 (Dropout)         (None, 64)                0         \n",
      "                                                                 \n",
      " dense_1 (Dense)             (None, 1)                 65        \n",
      "                                                                 \n",
      "=================================================================\n",
      "Total params: 754,661\n",
      "Trainable params: 754,661\n",
      "Non-trainable params: 0\n",
      "_________________________________________________________________\n"
     ]
    }
   ],
   "source": [
    "# model = Sequential([\n",
    "#     Embedding(vocab_size, 30, input_length=max_length),\n",
    "#     LSTM(32, dropout=0.3, recurrent_dropout=0.3),\n",
    "#     Dropout(0.3),\n",
    "#     Dense(64, activation=\"relu\"),\n",
    "#     Dropout(0.3),\n",
    "#     Dense(1, activation=\"softmax\"),\n",
    "# ])\n",
    "\n",
    "# model.compile(optimizer='adam', loss='categorical_crossentropy', metrics=['accuracy'])\n",
    "# model.summary()"
   ]
  },
  {
   "cell_type": "code",
   "execution_count": 10,
   "metadata": {},
   "outputs": [
    {
     "name": "stdout",
     "output_type": "stream",
     "text": [
      "Epoch 1/5\n",
      "310/310 [==============================] - 11s 34ms/step - loss: 0.0000e+00 - accuracy: 0.6431 - val_loss: 0.0000e+00 - val_accuracy: 0.6314\n",
      "Epoch 2/5\n",
      "310/310 [==============================] - 12s 37ms/step - loss: 0.0000e+00 - accuracy: 0.6431 - val_loss: 0.0000e+00 - val_accuracy: 0.6314\n",
      "Epoch 3/5\n",
      "170/310 [===============>..............] - ETA: 5s - loss: 0.0000e+00 - accuracy: 0.6386"
     ]
    },
    {
     "ename": "KeyboardInterrupt",
     "evalue": "",
     "output_type": "error",
     "traceback": [
      "\u001b[1;31m---------------------------------------------------------------------------\u001b[0m",
      "\u001b[1;31mKeyboardInterrupt\u001b[0m                         Traceback (most recent call last)",
      "Cell \u001b[1;32mIn[10], line 1\u001b[0m\n\u001b[1;32m----> 1\u001b[0m model_history \u001b[39m=\u001b[39m model\u001b[39m.\u001b[39;49mfit(\n\u001b[0;32m      2\u001b[0m     X_train,\n\u001b[0;32m      3\u001b[0m     y_train,\n\u001b[0;32m      4\u001b[0m     batch_size \u001b[39m=\u001b[39;49m \u001b[39m64\u001b[39;49m,\n\u001b[0;32m      5\u001b[0m     epochs\u001b[39m=\u001b[39;49m\u001b[39m5\u001b[39;49m,\n\u001b[0;32m      6\u001b[0m     validation_data\u001b[39m=\u001b[39;49m(X_test, y_test)\n\u001b[0;32m      7\u001b[0m )\n",
      "File \u001b[1;32mc:\\Users\\tales\\AppData\\Local\\Programs\\Python\\Python311\\Lib\\site-packages\\keras\\utils\\traceback_utils.py:65\u001b[0m, in \u001b[0;36mfilter_traceback.<locals>.error_handler\u001b[1;34m(*args, **kwargs)\u001b[0m\n\u001b[0;32m     63\u001b[0m filtered_tb \u001b[39m=\u001b[39m \u001b[39mNone\u001b[39;00m\n\u001b[0;32m     64\u001b[0m \u001b[39mtry\u001b[39;00m:\n\u001b[1;32m---> 65\u001b[0m     \u001b[39mreturn\u001b[39;00m fn(\u001b[39m*\u001b[39;49margs, \u001b[39m*\u001b[39;49m\u001b[39m*\u001b[39;49mkwargs)\n\u001b[0;32m     66\u001b[0m \u001b[39mexcept\u001b[39;00m \u001b[39mException\u001b[39;00m \u001b[39mas\u001b[39;00m e:\n\u001b[0;32m     67\u001b[0m     filtered_tb \u001b[39m=\u001b[39m _process_traceback_frames(e\u001b[39m.\u001b[39m__traceback__)\n",
      "File \u001b[1;32mc:\\Users\\tales\\AppData\\Local\\Programs\\Python\\Python311\\Lib\\site-packages\\keras\\engine\\training.py:1685\u001b[0m, in \u001b[0;36mModel.fit\u001b[1;34m(self, x, y, batch_size, epochs, verbose, callbacks, validation_split, validation_data, shuffle, class_weight, sample_weight, initial_epoch, steps_per_epoch, validation_steps, validation_batch_size, validation_freq, max_queue_size, workers, use_multiprocessing)\u001b[0m\n\u001b[0;32m   1677\u001b[0m \u001b[39mwith\u001b[39;00m tf\u001b[39m.\u001b[39mprofiler\u001b[39m.\u001b[39mexperimental\u001b[39m.\u001b[39mTrace(\n\u001b[0;32m   1678\u001b[0m     \u001b[39m\"\u001b[39m\u001b[39mtrain\u001b[39m\u001b[39m\"\u001b[39m,\n\u001b[0;32m   1679\u001b[0m     epoch_num\u001b[39m=\u001b[39mepoch,\n\u001b[1;32m   (...)\u001b[0m\n\u001b[0;32m   1682\u001b[0m     _r\u001b[39m=\u001b[39m\u001b[39m1\u001b[39m,\n\u001b[0;32m   1683\u001b[0m ):\n\u001b[0;32m   1684\u001b[0m     callbacks\u001b[39m.\u001b[39mon_train_batch_begin(step)\n\u001b[1;32m-> 1685\u001b[0m     tmp_logs \u001b[39m=\u001b[39m \u001b[39mself\u001b[39;49m\u001b[39m.\u001b[39;49mtrain_function(iterator)\n\u001b[0;32m   1686\u001b[0m     \u001b[39mif\u001b[39;00m data_handler\u001b[39m.\u001b[39mshould_sync:\n\u001b[0;32m   1687\u001b[0m         context\u001b[39m.\u001b[39masync_wait()\n",
      "File \u001b[1;32mc:\\Users\\tales\\AppData\\Local\\Programs\\Python\\Python311\\Lib\\site-packages\\tensorflow\\python\\util\\traceback_utils.py:150\u001b[0m, in \u001b[0;36mfilter_traceback.<locals>.error_handler\u001b[1;34m(*args, **kwargs)\u001b[0m\n\u001b[0;32m    148\u001b[0m filtered_tb \u001b[39m=\u001b[39m \u001b[39mNone\u001b[39;00m\n\u001b[0;32m    149\u001b[0m \u001b[39mtry\u001b[39;00m:\n\u001b[1;32m--> 150\u001b[0m   \u001b[39mreturn\u001b[39;00m fn(\u001b[39m*\u001b[39;49margs, \u001b[39m*\u001b[39;49m\u001b[39m*\u001b[39;49mkwargs)\n\u001b[0;32m    151\u001b[0m \u001b[39mexcept\u001b[39;00m \u001b[39mException\u001b[39;00m \u001b[39mas\u001b[39;00m e:\n\u001b[0;32m    152\u001b[0m   filtered_tb \u001b[39m=\u001b[39m _process_traceback_frames(e\u001b[39m.\u001b[39m__traceback__)\n",
      "File \u001b[1;32mc:\\Users\\tales\\AppData\\Local\\Programs\\Python\\Python311\\Lib\\site-packages\\tensorflow\\python\\eager\\polymorphic_function\\polymorphic_function.py:894\u001b[0m, in \u001b[0;36mFunction.__call__\u001b[1;34m(self, *args, **kwds)\u001b[0m\n\u001b[0;32m    891\u001b[0m compiler \u001b[39m=\u001b[39m \u001b[39m\"\u001b[39m\u001b[39mxla\u001b[39m\u001b[39m\"\u001b[39m \u001b[39mif\u001b[39;00m \u001b[39mself\u001b[39m\u001b[39m.\u001b[39m_jit_compile \u001b[39melse\u001b[39;00m \u001b[39m\"\u001b[39m\u001b[39mnonXla\u001b[39m\u001b[39m\"\u001b[39m\n\u001b[0;32m    893\u001b[0m \u001b[39mwith\u001b[39;00m OptionalXlaContext(\u001b[39mself\u001b[39m\u001b[39m.\u001b[39m_jit_compile):\n\u001b[1;32m--> 894\u001b[0m   result \u001b[39m=\u001b[39m \u001b[39mself\u001b[39;49m\u001b[39m.\u001b[39;49m_call(\u001b[39m*\u001b[39;49margs, \u001b[39m*\u001b[39;49m\u001b[39m*\u001b[39;49mkwds)\n\u001b[0;32m    896\u001b[0m new_tracing_count \u001b[39m=\u001b[39m \u001b[39mself\u001b[39m\u001b[39m.\u001b[39mexperimental_get_tracing_count()\n\u001b[0;32m    897\u001b[0m without_tracing \u001b[39m=\u001b[39m (tracing_count \u001b[39m==\u001b[39m new_tracing_count)\n",
      "File \u001b[1;32mc:\\Users\\tales\\AppData\\Local\\Programs\\Python\\Python311\\Lib\\site-packages\\tensorflow\\python\\eager\\polymorphic_function\\polymorphic_function.py:926\u001b[0m, in \u001b[0;36mFunction._call\u001b[1;34m(self, *args, **kwds)\u001b[0m\n\u001b[0;32m    923\u001b[0m   \u001b[39mself\u001b[39m\u001b[39m.\u001b[39m_lock\u001b[39m.\u001b[39mrelease()\n\u001b[0;32m    924\u001b[0m   \u001b[39m# In this case we have created variables on the first call, so we run the\u001b[39;00m\n\u001b[0;32m    925\u001b[0m   \u001b[39m# defunned version which is guaranteed to never create variables.\u001b[39;00m\n\u001b[1;32m--> 926\u001b[0m   \u001b[39mreturn\u001b[39;00m \u001b[39mself\u001b[39;49m\u001b[39m.\u001b[39;49m_no_variable_creation_fn(\u001b[39m*\u001b[39;49margs, \u001b[39m*\u001b[39;49m\u001b[39m*\u001b[39;49mkwds)  \u001b[39m# pylint: disable=not-callable\u001b[39;00m\n\u001b[0;32m    927\u001b[0m \u001b[39melif\u001b[39;00m \u001b[39mself\u001b[39m\u001b[39m.\u001b[39m_variable_creation_fn \u001b[39mis\u001b[39;00m \u001b[39mnot\u001b[39;00m \u001b[39mNone\u001b[39;00m:\n\u001b[0;32m    928\u001b[0m   \u001b[39m# Release the lock early so that multiple threads can perform the call\u001b[39;00m\n\u001b[0;32m    929\u001b[0m   \u001b[39m# in parallel.\u001b[39;00m\n\u001b[0;32m    930\u001b[0m   \u001b[39mself\u001b[39m\u001b[39m.\u001b[39m_lock\u001b[39m.\u001b[39mrelease()\n",
      "File \u001b[1;32mc:\\Users\\tales\\AppData\\Local\\Programs\\Python\\Python311\\Lib\\site-packages\\tensorflow\\python\\eager\\polymorphic_function\\tracing_compiler.py:143\u001b[0m, in \u001b[0;36mTracingCompiler.__call__\u001b[1;34m(self, *args, **kwargs)\u001b[0m\n\u001b[0;32m    140\u001b[0m \u001b[39mwith\u001b[39;00m \u001b[39mself\u001b[39m\u001b[39m.\u001b[39m_lock:\n\u001b[0;32m    141\u001b[0m   (concrete_function,\n\u001b[0;32m    142\u001b[0m    filtered_flat_args) \u001b[39m=\u001b[39m \u001b[39mself\u001b[39m\u001b[39m.\u001b[39m_maybe_define_function(args, kwargs)\n\u001b[1;32m--> 143\u001b[0m \u001b[39mreturn\u001b[39;00m concrete_function\u001b[39m.\u001b[39;49m_call_flat(\n\u001b[0;32m    144\u001b[0m     filtered_flat_args, captured_inputs\u001b[39m=\u001b[39;49mconcrete_function\u001b[39m.\u001b[39;49mcaptured_inputs)\n",
      "File \u001b[1;32mc:\\Users\\tales\\AppData\\Local\\Programs\\Python\\Python311\\Lib\\site-packages\\tensorflow\\python\\eager\\polymorphic_function\\monomorphic_function.py:1757\u001b[0m, in \u001b[0;36mConcreteFunction._call_flat\u001b[1;34m(self, args, captured_inputs, cancellation_manager)\u001b[0m\n\u001b[0;32m   1753\u001b[0m possible_gradient_type \u001b[39m=\u001b[39m gradients_util\u001b[39m.\u001b[39mPossibleTapeGradientTypes(args)\n\u001b[0;32m   1754\u001b[0m \u001b[39mif\u001b[39;00m (possible_gradient_type \u001b[39m==\u001b[39m gradients_util\u001b[39m.\u001b[39mPOSSIBLE_GRADIENT_TYPES_NONE\n\u001b[0;32m   1755\u001b[0m     \u001b[39mand\u001b[39;00m executing_eagerly):\n\u001b[0;32m   1756\u001b[0m   \u001b[39m# No tape is watching; skip to running the function.\u001b[39;00m\n\u001b[1;32m-> 1757\u001b[0m   \u001b[39mreturn\u001b[39;00m \u001b[39mself\u001b[39m\u001b[39m.\u001b[39m_build_call_outputs(\u001b[39mself\u001b[39;49m\u001b[39m.\u001b[39;49m_inference_function\u001b[39m.\u001b[39;49mcall(\n\u001b[0;32m   1758\u001b[0m       ctx, args, cancellation_manager\u001b[39m=\u001b[39;49mcancellation_manager))\n\u001b[0;32m   1759\u001b[0m forward_backward \u001b[39m=\u001b[39m \u001b[39mself\u001b[39m\u001b[39m.\u001b[39m_select_forward_and_backward_functions(\n\u001b[0;32m   1760\u001b[0m     args,\n\u001b[0;32m   1761\u001b[0m     possible_gradient_type,\n\u001b[0;32m   1762\u001b[0m     executing_eagerly)\n\u001b[0;32m   1763\u001b[0m forward_function, args_with_tangents \u001b[39m=\u001b[39m forward_backward\u001b[39m.\u001b[39mforward()\n",
      "File \u001b[1;32mc:\\Users\\tales\\AppData\\Local\\Programs\\Python\\Python311\\Lib\\site-packages\\tensorflow\\python\\eager\\polymorphic_function\\monomorphic_function.py:381\u001b[0m, in \u001b[0;36m_EagerDefinedFunction.call\u001b[1;34m(self, ctx, args, cancellation_manager)\u001b[0m\n\u001b[0;32m    379\u001b[0m \u001b[39mwith\u001b[39;00m _InterpolateFunctionError(\u001b[39mself\u001b[39m):\n\u001b[0;32m    380\u001b[0m   \u001b[39mif\u001b[39;00m cancellation_manager \u001b[39mis\u001b[39;00m \u001b[39mNone\u001b[39;00m:\n\u001b[1;32m--> 381\u001b[0m     outputs \u001b[39m=\u001b[39m execute\u001b[39m.\u001b[39;49mexecute(\n\u001b[0;32m    382\u001b[0m         \u001b[39mstr\u001b[39;49m(\u001b[39mself\u001b[39;49m\u001b[39m.\u001b[39;49msignature\u001b[39m.\u001b[39;49mname),\n\u001b[0;32m    383\u001b[0m         num_outputs\u001b[39m=\u001b[39;49m\u001b[39mself\u001b[39;49m\u001b[39m.\u001b[39;49m_num_outputs,\n\u001b[0;32m    384\u001b[0m         inputs\u001b[39m=\u001b[39;49margs,\n\u001b[0;32m    385\u001b[0m         attrs\u001b[39m=\u001b[39;49mattrs,\n\u001b[0;32m    386\u001b[0m         ctx\u001b[39m=\u001b[39;49mctx)\n\u001b[0;32m    387\u001b[0m   \u001b[39melse\u001b[39;00m:\n\u001b[0;32m    388\u001b[0m     outputs \u001b[39m=\u001b[39m execute\u001b[39m.\u001b[39mexecute_with_cancellation(\n\u001b[0;32m    389\u001b[0m         \u001b[39mstr\u001b[39m(\u001b[39mself\u001b[39m\u001b[39m.\u001b[39msignature\u001b[39m.\u001b[39mname),\n\u001b[0;32m    390\u001b[0m         num_outputs\u001b[39m=\u001b[39m\u001b[39mself\u001b[39m\u001b[39m.\u001b[39m_num_outputs,\n\u001b[1;32m   (...)\u001b[0m\n\u001b[0;32m    393\u001b[0m         ctx\u001b[39m=\u001b[39mctx,\n\u001b[0;32m    394\u001b[0m         cancellation_manager\u001b[39m=\u001b[39mcancellation_manager)\n",
      "File \u001b[1;32mc:\\Users\\tales\\AppData\\Local\\Programs\\Python\\Python311\\Lib\\site-packages\\tensorflow\\python\\eager\\execute.py:52\u001b[0m, in \u001b[0;36mquick_execute\u001b[1;34m(op_name, num_outputs, inputs, attrs, ctx, name)\u001b[0m\n\u001b[0;32m     50\u001b[0m \u001b[39mtry\u001b[39;00m:\n\u001b[0;32m     51\u001b[0m   ctx\u001b[39m.\u001b[39mensure_initialized()\n\u001b[1;32m---> 52\u001b[0m   tensors \u001b[39m=\u001b[39m pywrap_tfe\u001b[39m.\u001b[39;49mTFE_Py_Execute(ctx\u001b[39m.\u001b[39;49m_handle, device_name, op_name,\n\u001b[0;32m     53\u001b[0m                                       inputs, attrs, num_outputs)\n\u001b[0;32m     54\u001b[0m \u001b[39mexcept\u001b[39;00m core\u001b[39m.\u001b[39m_NotOkStatusException \u001b[39mas\u001b[39;00m e:\n\u001b[0;32m     55\u001b[0m   \u001b[39mif\u001b[39;00m name \u001b[39mis\u001b[39;00m \u001b[39mnot\u001b[39;00m \u001b[39mNone\u001b[39;00m:\n",
      "\u001b[1;31mKeyboardInterrupt\u001b[0m: "
     ]
    }
   ],
   "source": [
    "# model_history = model.fit(\n",
    "#     X_train,\n",
    "#     y_train,\n",
    "#     batch_size = 64,\n",
    "#     epochs=5,\n",
    "#     validation_data=(X_test, y_test)\n",
    "# )"
   ]
  },
  {
   "cell_type": "code",
   "execution_count": 20,
   "metadata": {},
   "outputs": [
    {
     "name": "stdout",
     "output_type": "stream",
     "text": [
      "  1/620 [..............................] - ETA: 13s"
     ]
    },
    {
     "name": "stdout",
     "output_type": "stream",
     "text": [
      "620/620 [==============================] - 2s 3ms/step\n",
      "--> Acuracia (treino): 0.6431\n",
      "155/155 [==============================] - 1s 3ms/step\n",
      "--> Acuracia (teste): 0.6314\n"
     ]
    }
   ],
   "source": [
    "# pred = np.round(model.predict(X_train))\n",
    "# print(f'--> Acuracia (treino): {accuracy_score(y_train, pred):.4f}')\n",
    "\n",
    "# pred = np.round(model.predict(X_test))\n",
    "# print(f'--> Acuracia (teste): {accuracy_score(y_test, pred):.4f}')"
   ]
  }
 ],
 "metadata": {
  "kernelspec": {
   "display_name": "Python 3",
   "language": "python",
   "name": "python3"
  },
  "language_info": {
   "codemirror_mode": {
    "name": "ipython",
    "version": 3
   },
   "file_extension": ".py",
   "mimetype": "text/x-python",
   "name": "python",
   "nbconvert_exporter": "python",
   "pygments_lexer": "ipython3",
   "version": "3.11.0"
  },
  "orig_nbformat": 4
 },
 "nbformat": 4,
 "nbformat_minor": 2
}
