{
 "cells": [
  {
   "cell_type": "code",
   "execution_count": 2,
   "metadata": {},
   "outputs": [],
   "source": [
    "from nltk.util import pr\n",
    "import pandas as pd\n",
    "import numpy as np\n",
    "from sklearn.feature_extraction.text import CountVectorizer\n",
    "from sklearn.model_selection import train_test_split\n",
    "from sklearn.tree import DecisionTreeClassifier\n"
   ]
  },
  {
   "cell_type": "code",
   "execution_count": 3,
   "metadata": {},
   "outputs": [],
   "source": [
    "# no warnings\n",
    "import warnings\n",
    "warnings.filterwarnings('ignore')"
   ]
  },
  {
   "cell_type": "code",
   "execution_count": 4,
   "metadata": {},
   "outputs": [
    {
     "name": "stdout",
     "output_type": "stream",
     "text": [
      "  classification  label                                          tweets_pt  \\\n",
      "0         Normal      2  mayasolovely como mulher você não deve reclama...   \n",
      "1      Offensive      1  menino dats frio  tyga dwn ruim para cuffin da...   \n",
      "2      Offensive      1  urkindofbrand cara   você  fodeu uma cadela  e...   \n",
      "3      Offensive      1       cganderson vivabased ela parece uma travesti   \n",
      "4      Offensive      1  shenikaroberts  merda que você ouve sobre mim ...   \n",
      "\n",
      "                                           tweets_en  \\\n",
      "0  mayasolovely   woman shouldnt complain cleanin...   \n",
      "1   boy dats coldtyga dwn bad cuffin dat hoe   place   \n",
      "2  urkindofbrand dawg   ever fuck  bitch start  c...   \n",
      "3             cganderson vivabased look like  tranny   \n",
      "4  shenikaroberts shit hear  might  true   might ...   \n",
      "\n",
      "                                            pt_lemma  \\\n",
      "0  mayasolovelyr como mulher você não dever recla...   \n",
      "1  menino dats frio   tyga dwn ruim para cuffin d...   \n",
      "2  urkindofbrand cara    você   foder um cadela  ...   \n",
      "3       Cganderson Vivabased ela parecer um travesti   \n",
      "4  shenikarobert   merdar que você ouve sobre eu ...   \n",
      "\n",
      "                                            en_lemma  \\\n",
      "0  mayasolovely    woman should not complain clea...   \n",
      "1   boy dat coldtyga dwn bad cuffin dat hoe    place   \n",
      "2  urkindofbrand dawg    ever fuck   bitch start ...   \n",
      "3             cganderson vivabase look like   tranny   \n",
      "4  shenikarobert shit hear   might   true    migh...   \n",
      "\n",
      "                                           pt_tokens  \\\n",
      "0  ['mayasolovelyr', 'como', 'mulher', 'você', 'n...   \n",
      "1  ['menino', 'dats', 'frio', 'tyga', 'dwn', 'rui...   \n",
      "2  ['urkindofbrand', 'cara', 'você', 'foder', 'um...   \n",
      "3  ['Cganderson', 'Vivabased', 'ela', 'parecer', ...   \n",
      "4  ['shenikarobert', 'merdar', 'que', 'você', 'ou...   \n",
      "\n",
      "                                           en_tokens  \n",
      "0  ['mayasolovely', 'woman', 'should', 'not', 'co...  \n",
      "1  ['boy', 'dat', 'coldtyga', 'dwn', 'bad', 'cuff...  \n",
      "2  ['urkindofbrand', 'dawg', 'ever', 'fuck', 'bit...  \n",
      "3  ['cganderson', 'vivabase', 'look', 'like', 'tr...  \n",
      "4  ['shenikarobert', 'shit', 'hear', 'might', 'tr...  \n"
     ]
    }
   ],
   "source": [
    "data = pd.read_csv(\"./Dados/twitter.csv\")\n",
    "print(data.head())"
   ]
  },
  {
   "cell_type": "code",
   "execution_count": 8,
   "metadata": {},
   "outputs": [
    {
     "name": "stdout",
     "output_type": "stream",
     "text": [
      "Tamanho treino: 19820\n",
      "Tamanho teste: 4956\n"
     ]
    }
   ],
   "source": [
    "Features = ['label', 'tweets_pt', 'tweets_en',  'pt_lemma', 'en_lemma', 'pt_tokens']\n",
    "X = data[Features].values\n",
    "y = data.classification.values\n",
    "\n",
    "x_train, x_test, y_train, y_test = train_test_split(X, y, test_size=0.2, random_state=2698)\n",
    "\n",
    "print(\"Tamanho treino: \" + str(len(x_train)))\n",
    "print(\"Tamanho teste: \" + str(len(x_test)))"
   ]
  },
  {
   "cell_type": "code",
   "execution_count": 12,
   "metadata": {},
   "outputs": [],
   "source": [
    "x = np.array(data[\"pt_lemma\"])\n",
    "y = np.array(data[\"label\"])"
   ]
  },
  {
   "cell_type": "code",
   "execution_count": 13,
   "metadata": {},
   "outputs": [
    {
     "name": "stdout",
     "output_type": "stream",
     "text": [
      "\n"
     ]
    }
   ],
   "source": [
    "cv = CountVectorizer()\n",
    "X = cv.fit_transform(x) \n",
    "X_train, X_test, y_train, y_test = train_test_split(X, y, test_size=0.2, random_state=42)\n",
    "\n",
    "print()"
   ]
  },
  {
   "cell_type": "code",
   "execution_count": 14,
   "metadata": {},
   "outputs": [
    {
     "data": {
      "text/plain": [
       "0.7175141242937854"
      ]
     },
     "execution_count": 14,
     "metadata": {},
     "output_type": "execute_result"
    }
   ],
   "source": [
    "clf = DecisionTreeClassifier()\n",
    "clf.fit(X_train,y_train)\n",
    "clf.score(X_test,y_test)"
   ]
  },
  {
   "cell_type": "code",
   "execution_count": null,
   "metadata": {},
   "outputs": [
    {
     "name": "stderr",
     "output_type": "stream",
     "text": [
      "2023-06-14 23:16:27.091 \n",
      "  \u001b[33m\u001b[1mWarning:\u001b[0m to view this Streamlit app on a browser, run it with the following\n",
      "  command:\n",
      "\n",
      "    streamlit run /home/joelma/.local/lib/python3.10/site-packages/ipykernel_launcher.py [ARGUMENTS]\n"
     ]
    }
   ],
   "source": [
    "def hate_speech_detection():\n",
    "    import streamlit as st\n",
    "    st.title(\"Hate Speech Detection\")\n",
    "    user = st.text_area(\"Enter any Tweet: \")\n",
    "    if len(user) < 1:\n",
    "        st.write(\"  \")\n",
    "    else:\n",
    "        sample = user\n",
    "        data = cv.transform([sample]).toarray()\n",
    "        a = clf.predict(data)\n",
    "        st.title(a)\n",
    "hate_speech_detection()"
   ]
  },
  {
   "cell_type": "code",
   "execution_count": null,
   "metadata": {},
   "outputs": [
    {
     "ename": "NameError",
     "evalue": "name 'tree' is not defined",
     "output_type": "error",
     "traceback": [
      "\u001b[0;31m---------------------------------------------------------------------------\u001b[0m",
      "\u001b[0;31mNameError\u001b[0m                                 Traceback (most recent call last)",
      "Cell \u001b[0;32mIn[11], line 4\u001b[0m\n\u001b[1;32m      1\u001b[0m \u001b[39mimport\u001b[39;00m \u001b[39mmatplotlib\u001b[39;00m\u001b[39m.\u001b[39;00m\u001b[39mpyplot\u001b[39;00m \u001b[39mas\u001b[39;00m \u001b[39mplt\u001b[39;00m\n\u001b[1;32m      3\u001b[0m plt\u001b[39m.\u001b[39mfigure(figsize\u001b[39m=\u001b[39m(\u001b[39m20\u001b[39m,\u001b[39m20\u001b[39m))\n\u001b[0;32m----> 4\u001b[0m tree\u001b[39m.\u001b[39mplot_tree(clf, filled\u001b[39m=\u001b[39m\u001b[39mTrue\u001b[39;00m)\n\u001b[1;32m      5\u001b[0m plt\u001b[39m.\u001b[39mshow()\n",
      "\u001b[0;31mNameError\u001b[0m: name 'tree' is not defined"
     ]
    },
    {
     "data": {
      "text/plain": [
       "<Figure size 2000x2000 with 0 Axes>"
      ]
     },
     "metadata": {},
     "output_type": "display_data"
    }
   ],
   "source": [
    "import matplotlib.pyplot as plt\n",
    "\n",
    "plt.figure(figsize=(20,20))\n",
    "tree.plot_tree(clf, filled=True)\n",
    "plt.show()\n"
   ]
  },
  {
   "cell_type": "code",
   "execution_count": null,
   "metadata": {},
   "outputs": [],
   "source": []
  }
 ],
 "metadata": {
  "kernelspec": {
   "display_name": "Python 3",
   "language": "python",
   "name": "python3"
  },
  "language_info": {
   "codemirror_mode": {
    "name": "ipython",
    "version": 3
   },
   "file_extension": ".py",
   "mimetype": "text/x-python",
   "name": "python",
   "nbconvert_exporter": "python",
   "pygments_lexer": "ipython3",
   "version": "3.10.6"
  },
  "orig_nbformat": 4
 },
 "nbformat": 4,
 "nbformat_minor": 2
}
