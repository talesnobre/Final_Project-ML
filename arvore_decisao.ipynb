{
 "cells": [
  {
   "cell_type": "code",
   "execution_count": 2,
   "metadata": {},
   "outputs": [],
   "source": [
    "from nltk.util import pr\n",
    "import pandas as pd\n",
    "import numpy as np\n",
    "from sklearn.feature_extraction.text import CountVectorizer\n",
    "from sklearn.model_selection import train_test_split\n",
    "from sklearn.tree import DecisionTreeClassifier\n"
   ]
  },
  {
   "cell_type": "code",
   "execution_count": 3,
   "metadata": {},
   "outputs": [],
   "source": [
    "# no warnings\n",
    "import warnings\n",
    "warnings.filterwarnings('ignore')"
   ]
  },
  {
   "cell_type": "code",
   "execution_count": 4,
   "metadata": {},
   "outputs": [
    {
     "name": "stdout",
     "output_type": "stream",
     "text": [
      "  classification  label                                          tweets_pt  \\\n",
      "0         Normal      2  mayasolovely como mulher você não deve reclama...   \n",
      "1      Offensive      1  menino dats frio  tyga dwn ruim para cuffin da...   \n",
      "2      Offensive      1  urkindofbrand cara   você  fodeu uma cadela  e...   \n",
      "3      Offensive      1       cganderson vivabased ela parece uma travesti   \n",
      "4      Offensive      1  shenikaroberts  merda que você ouve sobre mim ...   \n",
      "\n",
      "                                           tweets_en  \\\n",
      "0  mayasolovely   woman shouldnt complain cleanin...   \n",
      "1   boy dats coldtyga dwn bad cuffin dat hoe   place   \n",
      "2  urkindofbrand dawg   ever fuck  bitch start  c...   \n",
      "3             cganderson vivabased look like  tranny   \n",
      "4  shenikaroberts shit hear  might  true   might ...   \n",
      "\n",
      "                                            pt_lemma  \\\n",
      "0  mayasolovelyr como mulher você não dever recla...   \n",
      "1  menino dats frio   tyga dwn ruim para cuffin d...   \n",
      "2  urkindofbrand cara    você   foder um cadela  ...   \n",
      "3       Cganderson Vivabased ela parecer um travesti   \n",
      "4  shenikarobert   merdar que você ouve sobre eu ...   \n",
      "\n",
      "                                            en_lemma  \\\n",
      "0  mayasolovely    woman should not complain clea...   \n",
      "1   boy dat coldtyga dwn bad cuffin dat hoe    place   \n",
      "2  urkindofbrand dawg    ever fuck   bitch start ...   \n",
      "3             cganderson vivabase look like   tranny   \n",
      "4  shenikarobert shit hear   might   true    migh...   \n",
      "\n",
      "                                           pt_tokens  \\\n",
      "0  ['mayasolovelyr', 'como', 'mulher', 'você', 'n...   \n",
      "1  ['menino', 'dats', 'frio', 'tyga', 'dwn', 'rui...   \n",
      "2  ['urkindofbrand', 'cara', 'você', 'foder', 'um...   \n",
      "3  ['Cganderson', 'Vivabased', 'ela', 'parecer', ...   \n",
      "4  ['shenikarobert', 'merdar', 'que', 'você', 'ou...   \n",
      "\n",
      "                                           en_tokens  \n",
      "0  ['mayasolovely', 'woman', 'should', 'not', 'co...  \n",
      "1  ['boy', 'dat', 'coldtyga', 'dwn', 'bad', 'cuff...  \n",
      "2  ['urkindofbrand', 'dawg', 'ever', 'fuck', 'bit...  \n",
      "3  ['cganderson', 'vivabase', 'look', 'like', 'tr...  \n",
      "4  ['shenikarobert', 'shit', 'hear', 'might', 'tr...  \n"
     ]
    }
   ],
   "source": [
    "data = pd.read_csv(\"./Dados/twitter.csv\")\n",
    "print(data.head())"
   ]
  },
  {
   "cell_type": "code",
   "execution_count": 17,
   "metadata": {},
   "outputs": [],
   "source": [
    "x = np.array(data[\"tweets_pt\"])\n",
    "y = np.array(data[\"label\"])"
   ]
  },
  {
   "cell_type": "code",
   "execution_count": 19,
   "metadata": {},
   "outputs": [],
   "source": [
    "cv = CountVectorizer()\n",
    "X = cv.fit_transform(x) \n",
    "X_train, X_test, y_train, y_test = train_test_split(X, y, test_size=0.2, random_state=42)"
   ]
  },
  {
   "cell_type": "code",
   "execution_count": 27,
   "metadata": {},
   "outputs": [
    {
     "name": "stdout",
     "output_type": "stream",
     "text": [
      "Ein =  0.0011099899091826515\n",
      "Eout =  0.2740112994350282\n",
      "              precision    recall  f1-score   support\n",
      "\n",
      "           0       0.46      0.35      0.40      1031\n",
      "           1       0.79      0.83      0.81      3129\n",
      "           2       0.71      0.79      0.75       796\n",
      "\n",
      "    accuracy                           0.73      4956\n",
      "   macro avg       0.65      0.66      0.65      4956\n",
      "weighted avg       0.71      0.73      0.72      4956\n",
      "\n"
     ]
    }
   ],
   "source": [
    "from sklearn.metrics import classification_report, accuracy_score\n",
    "\n",
    "clf = DecisionTreeClassifier()\n",
    "clf.fit(X_train,y_train)\n",
    "\n",
    "print('Ein = ', 1 - accuracy_score(y_train, clf.predict(X_train)))\n",
    "print('Eout = ', 1 - accuracy_score(y_test, clf.predict(X_test)))\n",
    "print(classification_report(y_test, clf.predict(X_test)))"
   ]
  },
  {
   "cell_type": "code",
   "execution_count": 49,
   "metadata": {},
   "outputs": [
    {
     "ename": "NameError",
     "evalue": "name 'cllf' is not defined",
     "output_type": "error",
     "traceback": [
      "\u001b[0;31m---------------------------------------------------------------------------\u001b[0m",
      "\u001b[0;31mNameError\u001b[0m                                 Traceback (most recent call last)",
      "Cell \u001b[0;32mIn[49], line 5\u001b[0m\n\u001b[1;32m      2\u001b[0m \u001b[39mimport\u001b[39;00m \u001b[39mmatplotlib\u001b[39;00m\u001b[39m.\u001b[39;00m\u001b[39mpyplot\u001b[39;00m \u001b[39mas\u001b[39;00m \u001b[39mplt\u001b[39;00m\n\u001b[1;32m      4\u001b[0m plt\u001b[39m.\u001b[39mfigure(figsize\u001b[39m=\u001b[39m(\u001b[39m20\u001b[39m,\u001b[39m20\u001b[39m))\n\u001b[0;32m----> 5\u001b[0m plot_tree(cllf,\n\u001b[1;32m      6\u001b[0m           feature_names\u001b[39m=\u001b[39m cv\u001b[39m.\u001b[39mget_feature_names(),\n\u001b[1;32m      7\u001b[0m             class_names\u001b[39m=\u001b[39m[\u001b[39m'\u001b[39m\u001b[39m0\u001b[39m\u001b[39m'\u001b[39m,\u001b[39m'\u001b[39m\u001b[39m1\u001b[39m\u001b[39m'\u001b[39m],\n\u001b[1;32m      8\u001b[0m             filled\u001b[39m=\u001b[39m\u001b[39mTrue\u001b[39;00m,\n\u001b[1;32m      9\u001b[0m             rounded\u001b[39m=\u001b[39m\u001b[39mTrue\u001b[39;00m,\n\u001b[1;32m     10\u001b[0m             max_depth\u001b[39m=\u001b[39m\u001b[39m3\u001b[39m,\n\u001b[1;32m     11\u001b[0m             fontsize\u001b[39m=\u001b[39m\u001b[39m14\u001b[39m)\n\u001b[1;32m     13\u001b[0m plt\u001b[39m.\u001b[39msavefig(\u001b[39m'\u001b[39m\u001b[39marvore_decisao.png\u001b[39m\u001b[39m'\u001b[39m)\n\u001b[1;32m     14\u001b[0m plt\u001b[39m.\u001b[39msavefig(\u001b[39m'\u001b[39m\u001b[39marvore_decisao.png\u001b[39m\u001b[39m'\u001b[39m)\n",
      "\u001b[0;31mNameError\u001b[0m: name 'cllf' is not defined"
     ]
    },
    {
     "data": {
      "text/plain": [
       "<Figure size 2000x2000 with 0 Axes>"
      ]
     },
     "metadata": {},
     "output_type": "display_data"
    }
   ],
   "source": [
    "from sklearn.tree import plot_tree\n",
    "import matplotlib.pyplot as plt\n",
    "\n",
    "plt.figure(figsize=(20,20))\n",
    "plot_tree(clf,\n",
    "          feature_names = cv.fa,\n"
   ]
  },
  {
   "cell_type": "code",
   "execution_count": null,
   "metadata": {},
   "outputs": [],
   "source": []
  }
 ],
 "metadata": {
  "kernelspec": {
   "display_name": "Python 3",
   "language": "python",
   "name": "python3"
  },
  "language_info": {
   "codemirror_mode": {
    "name": "ipython",
    "version": 3
   },
   "file_extension": ".py",
   "mimetype": "text/x-python",
   "name": "python",
   "nbconvert_exporter": "python",
   "pygments_lexer": "ipython3",
   "version": "3.10.6"
  },
  "orig_nbformat": 4
 },
 "nbformat": 4,
 "nbformat_minor": 2
}
